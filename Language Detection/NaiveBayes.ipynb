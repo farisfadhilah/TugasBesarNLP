{
  "nbformat": 4,
  "nbformat_minor": 0,
  "metadata": {
    "colab": {
      "name": "NaiveBayes.ipynb",
      "provenance": [],
      "collapsed_sections": []
    },
    "kernelspec": {
      "name": "python3",
      "display_name": "Python 3"
    },
    "language_info": {
      "name": "python"
    },
    "accelerator": "GPU"
  },
  "cells": [
    {
      "cell_type": "markdown",
      "metadata": {
        "id": "W0Zyl1lrBCeA"
      },
      "source": [
        "## PJ : Faris Fadhilah / 13518026"
      ]
    },
    {
      "cell_type": "markdown",
      "metadata": {
        "id": "FcD9iT2Bs4E3"
      },
      "source": [
        "### Import Libraries ###"
      ]
    },
    {
      "cell_type": "code",
      "metadata": {
        "id": "mmYlnRU_OPLG"
      },
      "source": [
        "# Libraries\n",
        "import pandas as pd\n",
        "import numpy as np\n",
        "import re\n",
        "import seaborn as sns\n",
        "import matplotlib.pyplot as plt\n",
        "import warnings\n",
        "warnings.simplefilter(\"ignore\")\n",
        "from sklearn.preprocessing import LabelEncoder\n",
        "from sklearn.feature_extraction.text import CountVectorizer\n",
        "from sklearn.model_selection import train_test_split\n",
        "from sklearn.naive_bayes import MultinomialNB\n",
        "from sklearn.metrics import accuracy_score, confusion_matrix\n",
        "import pickle\n",
        "import time"
      ],
      "execution_count": 1,
      "outputs": []
    },
    {
      "cell_type": "markdown",
      "metadata": {
        "id": "qGs5j8WZtB2Z"
      },
      "source": [
        "### Import Dataset ###"
      ]
    },
    {
      "cell_type": "code",
      "metadata": {
        "id": "0Cwb887RapTu"
      },
      "source": [
        "# Import Dataset\n",
        "data = pd.read_csv(\"dataset.csv\")\n",
        "data = data.iloc[:6000,:]\n",
        "# Separate Features\n",
        "X = data[\"Text\"]\n",
        "y = data[\"Language\"]"
      ],
      "execution_count": 2,
      "outputs": []
    },
    {
      "cell_type": "markdown",
      "metadata": {
        "id": "8x60E9ldtF4G"
      },
      "source": [
        "### Label Encoding ###"
      ]
    },
    {
      "cell_type": "code",
      "metadata": {
        "id": "uofEYGSmrknc"
      },
      "source": [
        "le = LabelEncoder()\n",
        "y = le.fit_transform(y)"
      ],
      "execution_count": 3,
      "outputs": []
    },
    {
      "cell_type": "markdown",
      "metadata": {
        "id": "MekZbQmvtXao"
      },
      "source": [
        "### Text Preprocessing ##"
      ]
    },
    {
      "cell_type": "code",
      "metadata": {
        "id": "XCBHNu8mroyS"
      },
      "source": [
        "# creating a list for appending the preprocessed text\n",
        "data_list = []\n",
        "# iterating through all the text\n",
        "for text in X:\n",
        "       # removing the symbols and numbers\n",
        "        text = re.sub(r'[!@#$(),n\"%^*?:;~`0-9]', ' ', text)\n",
        "        text = re.sub(r'[[]]', ' ', text)\n",
        "        # converting the text to lower case\n",
        "        text = text.lower()\n",
        "        # appending to data_list\n",
        "        data_list.append(text)"
      ],
      "execution_count": 4,
      "outputs": []
    },
    {
      "cell_type": "markdown",
      "metadata": {
        "id": "z7M6YPIHtZ31"
      },
      "source": [
        "### Bag of Words ###"
      ]
    },
    {
      "cell_type": "code",
      "metadata": {
        "id": "OoZk6MobrrgM"
      },
      "source": [
        "cv = CountVectorizer()\n",
        "X = cv.fit_transform(data_list).toarray()"
      ],
      "execution_count": 5,
      "outputs": []
    },
    {
      "cell_type": "markdown",
      "metadata": {
        "id": "ib6fYH1-te-m"
      },
      "source": [
        "### Train Test Splitting ###"
      ]
    },
    {
      "cell_type": "code",
      "metadata": {
        "id": "O_7geHzFrup4"
      },
      "source": [
        "x_train, x_test, y_train, y_test = train_test_split(X, y, test_size = 0.20)"
      ],
      "execution_count": 6,
      "outputs": []
    },
    {
      "cell_type": "markdown",
      "metadata": {
        "id": "GMJEjhkltihW"
      },
      "source": [
        "### Define Model Naive Bayes (NB) & Train Model ###"
      ]
    },
    {
      "cell_type": "code",
      "metadata": {
        "colab": {
          "base_uri": "https://localhost:8080/"
        },
        "id": "pesojf41rzoN",
        "outputId": "8ba58c7e-5063-43a3-d3b2-bedf25ca8fc2"
      },
      "source": [
        "model = MultinomialNB()\n",
        "start_time = time.time()\n",
        "model.fit(x_train, y_train)\n",
        "print(\"Train Time Execution: %.3f seconds\" % (time.time() - start_time))\n",
        "y_pred = model.predict(x_test)"
      ],
      "execution_count": 7,
      "outputs": [
        {
          "output_type": "stream",
          "name": "stdout",
          "text": [
            "Train Time Execution: 58.205 seconds\n"
          ]
        }
      ]
    },
    {
      "cell_type": "markdown",
      "metadata": {
        "id": "MWgHhgkrtvr6"
      },
      "source": [
        "### Evaluate Model ####"
      ]
    },
    {
      "cell_type": "code",
      "metadata": {
        "colab": {
          "base_uri": "https://localhost:8080/",
          "height": 609
        },
        "id": "kMd4W8Ior30z",
        "outputId": "65f82382-5a8d-45e5-c102-6f59221beb72"
      },
      "source": [
        "# show accuracy of model\n",
        "ac = accuracy_score(y_test, y_pred)\n",
        "cm = confusion_matrix(y_test, y_pred)\n",
        "print(\"Accuracy is :\",ac)\n",
        "# show confusion matrix of model\n",
        "plt.figure(figsize=(15,10))\n",
        "sns.heatmap(cm, annot = True)\n",
        "plt.show()"
      ],
      "execution_count": 8,
      "outputs": [
        {
          "output_type": "stream",
          "name": "stdout",
          "text": [
            "Accuracy is : 0.945\n"
          ]
        },
        {
          "output_type": "display_data",
          "data": {
            "image/png": "[encoded data removed]",
            "text/plain": [
              "<Figure size 1080x720 with 2 Axes>"
            ]
          },
          "metadata": {
            "needs_background": "light"
          }
        }
      ]
    },
    {
      "cell_type": "markdown",
      "metadata": {
        "id": "WOjB7pvHt8Er"
      },
      "source": [
        "### Save Model ###"
      ]
    },
    {
      "cell_type": "code",
      "metadata": {
        "id": "zssCfUKVsmZY"
      },
      "source": [
        "# saving the model\n",
        "filename = 'language_detection_model1.sav'\n",
        "pickle.dump(model, open(filename, 'wb'))"
      ],
      "execution_count": 9,
      "outputs": []
    },
    {
      "cell_type": "markdown",
      "metadata": {
        "id": "LGNkUqHjuMev"
      },
      "source": [
        "### Function Predict Sentence ###"
      ]
    },
    {
      "cell_type": "code",
      "metadata": {
        "id": "4xnIMkMMsKzw"
      },
      "source": [
        "# function for predicting language\n",
        "def predict(text):\n",
        "    x = cv.transform([text]).toarray()\n",
        "    lang = model.predict(x)\n",
        "    lang = le.inverse_transform(lang)\n",
        "    print(\"The language is in\",lang[0])"
      ],
      "execution_count": 10,
      "outputs": []
    },
    {
      "cell_type": "markdown",
      "metadata": {
        "id": "gV7nVI89uQBe"
      },
      "source": [
        "### Load Model & Predict ###"
      ]
    },
    {
      "cell_type": "code",
      "metadata": {
        "colab": {
          "base_uri": "https://localhost:8080/"
        },
        "id": "kP445fkJsLwA",
        "outputId": "34dee85c-9191-4374-8562-2b426b2c57b0"
      },
      "source": [
        "start_time = time.time()\n",
        "# loading the model\n",
        "filename = 'language_detection_model1.sav'\n",
        "model = pickle.load(open(filename, 'rb'))\n",
        "# predict language\n",
        "predict(\"We use a dataset that contains 22 selective languages from the original dataset which includes the following Languages\")\n",
        "print(\"Predict Time Execution: %.3f seconds\" % (time.time() - start_time))"
      ],
      "execution_count": 11,
      "outputs": [
        {
          "output_type": "stream",
          "name": "stdout",
          "text": [
            "The language is in English\n",
            "Predict Time Execution: 0.016 seconds\n"
          ]
        }
      ]
    }
  ]
}