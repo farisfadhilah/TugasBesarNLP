{
  "nbformat": 4,
  "nbformat_minor": 0,
  "metadata": {
    "colab": {
      "name": "Task2.ipynb",
      "provenance": [],
      "collapsed_sections": []
    },
    "kernelspec": {
      "display_name": "Python 3",
      "name": "python3"
    },
    "language_info": {
      "name": "python"
    },
    "accelerator": "GPU"
  },
  "cells": [
    {
      "cell_type": "markdown",
      "metadata": {
        "id": "Qo2KisieA1_9"
      },
      "source": [
        "##PJ : Iqbal Naufal - 13518074"
      ]
    },
    {
      "cell_type": "markdown",
      "metadata": {
        "id": "-3XFpaV-wEVY"
      },
      "source": [
        "Installing Library"
      ]
    },
    {
      "cell_type": "code",
      "metadata": {
        "colab": {
          "base_uri": "https://localhost:8080/"
        },
        "id": "M2outszPsLoi",
        "outputId": "9d2ed579-dc29-4288-d015-b08dd2119093"
      },
      "source": [
        "pip install textblob"
      ],
      "execution_count": null,
      "outputs": [
        {
          "name": "stdout",
          "output_type": "stream",
          "text": [
            "Requirement already satisfied: textblob in /usr/local/lib/python3.7/dist-packages (0.15.3)\n",
            "Requirement already satisfied: nltk>=3.1 in /usr/local/lib/python3.7/dist-packages (from textblob) (3.2.5)\n",
            "Requirement already satisfied: six in /usr/local/lib/python3.7/dist-packages (from nltk>=3.1->textblob) (1.15.0)\n"
          ]
        }
      ]
    },
    {
      "cell_type": "markdown",
      "metadata": {
        "id": "tZ7aayQmwIO1"
      },
      "source": [
        "Mouting Google Drive To use the necessary datasets\n",
        "\n",
        "Note: I use it because my google colab doesn't let me upload the necessary datasets"
      ]
    },
    {
      "cell_type": "code",
      "metadata": {
        "colab": {
          "base_uri": "https://localhost:8080/"
        },
        "id": "Blof1rT4GJpS",
        "outputId": "2ee85020-d955-4ee8-b649-2a19ca0451f1"
      },
      "source": [
        "from google.colab import drive\n",
        "drive.mount('/content/drive')"
      ],
      "execution_count": 2,
      "outputs": [
        {
          "output_type": "stream",
          "name": "stdout",
          "text": [
            "Mounted at /content/drive\n"
          ]
        }
      ]
    },
    {
      "cell_type": "markdown",
      "metadata": {
        "id": "6x_rX52rwPlj"
      },
      "source": [
        "Importing Libraries"
      ]
    },
    {
      "cell_type": "code",
      "metadata": {
        "id": "z8hMn3OY4Xbu"
      },
      "source": [
        "from textblob import TextBlob\n",
        "from textblob.en import Spelling\n",
        "from collections import Counter\n",
        "import gensim\n",
        "import re"
      ],
      "execution_count": 3,
      "outputs": []
    },
    {
      "cell_type": "markdown",
      "metadata": {
        "id": "K1WK3JXMwR11"
      },
      "source": [
        "Compare Function to compare 2 text"
      ]
    },
    {
      "cell_type": "code",
      "metadata": {
        "id": "5xjE6R5F4m51"
      },
      "source": [
        "def compare(text1, text2):  \n",
        "    l1 = text1.split()\n",
        "    l2 = text2.split()\n",
        "    same = 0\n",
        "    diff = 0\n",
        "    for i in range(0, len(l1)):\n",
        "        if l1[i] != l2[i]:\n",
        "            diff += 1\n",
        "        else:\n",
        "            same += 1\n",
        "    return (same, diff)"
      ],
      "execution_count": 4,
      "outputs": []
    },
    {
      "cell_type": "markdown",
      "metadata": {
        "id": "k_fsgV7fwXPZ"
      },
      "source": [
        "Correction Function using library TextBlob"
      ]
    },
    {
      "cell_type": "code",
      "metadata": {
        "id": "NxwOhS0X_TGe"
      },
      "source": [
        "def blobCorrect(text):\n",
        "  txtBlb = TextBlob(text)\n",
        "  corrected = txtBlb.correct()\n",
        "  return corrected"
      ],
      "execution_count": 9,
      "outputs": []
    },
    {
      "cell_type": "markdown",
      "metadata": {
        "id": "_Q35OxYYwcd0"
      },
      "source": [
        "Adding text with typo and correcting it"
      ]
    },
    {
      "cell_type": "code",
      "metadata": {
        "id": "CPxOQ7mA_RCV"
      },
      "source": [
        "text = \"Aoccdrnig to a rscheearch at Cmabrigde Uinervtisy, it deosn’t matter in what order the letters in a word are the only iprmoetnt thing is that the first and last later be at the right pclae. The set can be a total mess and you can still red it outfit porbelm. His is bcuseae the human mind does not red even letter by istlef, but the word as a wlohe.\"\n",
        "textCorrected = blobCorrect(text)"
      ],
      "execution_count": 14,
      "outputs": []
    },
    {
      "cell_type": "markdown",
      "metadata": {
        "id": "6ZflMzzcwgZv"
      },
      "source": [
        "Adding proper text"
      ]
    },
    {
      "cell_type": "code",
      "metadata": {
        "id": "v2vREfp5ORC2"
      },
      "source": [
        "proper_text = \"According to a research at Cambridge University, it doesn't matter in what order the letters in a word are, the only important thing is that the first and last letter be at the right place. The rest can be a total mess and you can still read it without problem. This is because the human mind does not read every letter by itself, but the word as a whole.\""
      ],
      "execution_count": 16,
      "outputs": []
    },
    {
      "cell_type": "markdown",
      "metadata": {
        "id": "Dvw3X1MNwiY3"
      },
      "source": [
        "Calculating accuracy"
      ]
    },
    {
      "cell_type": "code",
      "metadata": {
        "colab": {
          "base_uri": "https://localhost:8080/"
        },
        "id": "EGN5xKd77fWy",
        "outputId": "082474b6-3e38-4f43-a577-b53821838371"
      },
      "source": [
        "difference = compare(textCorrected, proper_text)\n",
        "acc = difference[0] / (difference[0] + difference[1]) * 100\n",
        "print(\"Accuracy: \", acc, \"%\")"
      ],
      "execution_count": 17,
      "outputs": [
        {
          "output_type": "stream",
          "name": "stdout",
          "text": [
            "Accuracy:  78.26086956521739 %\n"
          ]
        }
      ]
    },
    {
      "cell_type": "markdown",
      "metadata": {
        "id": "uBOsf2CXwpoU"
      },
      "source": [
        "Adding dataset to train library"
      ]
    },
    {
      "cell_type": "code",
      "metadata": {
        "id": "KVfbDk7d8PvU"
      },
      "source": [
        "with open(\"../Dataset/train.txt\", \"r\") as f2:\n",
        "    train = f2.read()\n",
        "    lower_train = train.lower()\n",
        "\n",
        "words = re.findall(\"[a-z]+\", lower_train)\n",
        "vocab = set(words)\n",
        "\n",
        "onestring = \" \".join(words)\n",
        "\n",
        "path = \"res.txt\"\n",
        "spelling = Spelling(path = path)\n",
        "spelling.train(onestring, path)"
      ],
      "execution_count": 18,
      "outputs": []
    },
    {
      "cell_type": "markdown",
      "metadata": {
        "id": "U-ZCmiYuwuNy"
      },
      "source": [
        "Correcting the typo word"
      ]
    },
    {
      "cell_type": "code",
      "metadata": {
        "colab": {
          "base_uri": "https://localhost:8080/"
        },
        "id": "JBvYhJpYHJff",
        "outputId": "f5b3ba35-be65-41a1-d1b7-e30eb6063ca0"
      },
      "source": [
        "kalimat = text.split()\n",
        "corrected = \"\"\n",
        "for i in kalimat :\n",
        "    corrected = corrected +\" \"+ spelling.suggest(i)[0][0]\n",
        "print(corrected)"
      ],
      "execution_count": 19,
      "outputs": [
        {
          "output_type": "stream",
          "name": "stdout",
          "text": [
            " Aoccdrnig to a rscheearch at Cmabrigde Uinervtisy, it deosn’t matter in what order the letters in a word are the only iprmoetnt thing is that the first and last later be at the right pclae. The set can be a total less and you can still red it unfit porbelm. His is bcuseae the human mind does not red even letter by istlef, but the word as a wlohe.\n"
          ]
        }
      ]
    },
    {
      "cell_type": "markdown",
      "metadata": {
        "id": "6fHG1_fGwxQ0"
      },
      "source": [
        "Calculating accuracy"
      ]
    },
    {
      "cell_type": "code",
      "metadata": {
        "colab": {
          "base_uri": "https://localhost:8080/"
        },
        "id": "Fh5hCvSnHc1s",
        "outputId": "fdc49206-2b4f-4106-8470-26a5fc6f4cc5"
      },
      "source": [
        "difference = compare(corrected, proper_text)\n",
        "acc = difference[0] / (difference[0] + difference[1]) * 100\n",
        "print(\"Accuracy: \",acc, \"%\")"
      ],
      "execution_count": 21,
      "outputs": [
        {
          "output_type": "stream",
          "name": "stdout",
          "text": [
            "Accuracy:  71.01449275362319 %\n"
          ]
        }
      ]
    },
    {
      "cell_type": "markdown",
      "metadata": {
        "id": "kNFh6Fhmwza_"
      },
      "source": [
        "Importing libraries for deep learning"
      ]
    },
    {
      "cell_type": "code",
      "metadata": {
        "id": "3_RPDQGeWx6T"
      },
      "source": [
        "import string\n",
        "import re\n",
        "import numpy as np\n",
        "from numpy import array, argmax, random, take\n",
        "import pandas as pd\n",
        "from keras.models import Sequential\n",
        "from keras.layers import Dense, LSTM, Embedding, RepeatVector\n",
        "from keras.preprocessing.text import Tokenizer\n",
        "from keras.callbacks import ModelCheckpoint\n",
        "from keras.preprocessing.sequence import pad_sequences\n",
        "from keras.models import load_model\n",
        "from tensorflow.keras import optimizers"
      ],
      "execution_count": 52,
      "outputs": []
    },
    {
      "cell_type": "markdown",
      "metadata": {
        "id": "g_TzPFMHw23k"
      },
      "source": [
        "Adding dataset"
      ]
    },
    {
      "cell_type": "code",
      "metadata": {
        "id": "GMOPIPMIK7aQ"
      },
      "source": [
        "f3 = open(\"../Dataset/aspell.txt\", mode='rt', encoding='utf-8')\n",
        "text = f3.read()\n",
        "f3.close()"
      ],
      "execution_count": 53,
      "outputs": []
    },
    {
      "cell_type": "markdown",
      "metadata": {
        "id": "VobKm91Cw5tl"
      },
      "source": [
        "Splitting labels"
      ]
    },
    {
      "cell_type": "code",
      "metadata": {
        "id": "-eADdRODWkIt"
      },
      "source": [
        "vocab = text.strip().split('\\n')\n",
        "vocab = [i.split(': ') for i in vocab]\n",
        "vocab = array(vocab)"
      ],
      "execution_count": 54,
      "outputs": []
    },
    {
      "cell_type": "markdown",
      "metadata": {
        "id": "qs5CVZTVxDH5"
      },
      "source": [
        "Splitting multiple value on one label"
      ]
    },
    {
      "cell_type": "code",
      "metadata": {
        "colab": {
          "base_uri": "https://localhost:8080/"
        },
        "id": "DM-aVDv5WnJP",
        "outputId": "11d2e8a1-6ecd-4861-85c4-47b58ccd1eb1"
      },
      "source": [
        "print(len(vocab))\n",
        "for i in range(len(vocab)):\n",
        "    vocab[i,0] = vocab[i,0].lower()\n",
        "    vocab[i,1] = vocab[i,1].lower()\n",
        "    temp = vocab[i,1].split(\" \")\n",
        "    if (len(temp) > 1):\n",
        "        corr = vocab[i,0]\n",
        "        for j in temp:\n",
        "            vocab = np.append(vocab, [[corr, j]], 0)\n",
        "        vocab = np.delete(vocab, i, 0)\n",
        "vocab"
      ],
      "execution_count": 55,
      "outputs": [
        {
          "output_type": "stream",
          "name": "stdout",
          "text": [
            "450\n"
          ]
        },
        {
          "output_type": "execute_result",
          "data": {
            "text/plain": [
              "array([['nevada', 'nevade'],\n",
              "       ['presbyterian', 'presbyterian'],\n",
              "       ['rsx', 'rsx'],\n",
              "       ...,\n",
              "       ['unnatural', 'unatourral'],\n",
              "       ['unnatural', 'unaturral'],\n",
              "       ['unnatural', 'unnaturral']], dtype='<U122')"
            ]
          },
          "metadata": {},
          "execution_count": 55
        }
      ]
    },
    {
      "cell_type": "markdown",
      "metadata": {
        "id": "Sn2o--iExIfo"
      },
      "source": [
        "Tokenization function"
      ]
    },
    {
      "cell_type": "code",
      "metadata": {
        "id": "2u1__c1fk4nI"
      },
      "source": [
        "def tokenization(lines):\n",
        "      tokenizer = Tokenizer()\n",
        "      tokenizer.fit_on_texts(lines)\n",
        "      return tokenizer"
      ],
      "execution_count": 56,
      "outputs": []
    },
    {
      "cell_type": "markdown",
      "metadata": {
        "id": "ceCCmdUtxK7x"
      },
      "source": [
        "Creating tokenizer for the correct label"
      ]
    },
    {
      "cell_type": "code",
      "metadata": {
        "colab": {
          "base_uri": "https://localhost:8080/"
        },
        "id": "AZWVr2iuk7CW",
        "outputId": "7ece37c8-7fc7-4c48-c36b-01ba46b662c0"
      },
      "source": [
        "corr_tokenizer = tokenization(vocab[:, 0])\n",
        "corr_vocab_size = len(corr_tokenizer.word_index) + 1\n",
        "\n",
        "corr_length = 8\n",
        "print('Correct Vocabulary Size: %d' % corr_vocab_size)\n",
        "\n",
        "print(corr_tokenizer)"
      ],
      "execution_count": 57,
      "outputs": [
        {
          "output_type": "stream",
          "name": "stdout",
          "text": [
            "Correct Vocabulary Size: 459\n",
            "<keras_preprocessing.text.Tokenizer object at 0x7f061b943090>\n"
          ]
        }
      ]
    },
    {
      "cell_type": "markdown",
      "metadata": {
        "id": "SeqICNj8xOcD"
      },
      "source": [
        "Creating tokenizer for the typo label"
      ]
    },
    {
      "cell_type": "code",
      "metadata": {
        "colab": {
          "base_uri": "https://localhost:8080/"
        },
        "id": "pBRjT_urlDhU",
        "outputId": "52761338-0b45-4cca-e1df-36c7c673be23"
      },
      "source": [
        "typo_tokenizer = tokenization(vocab[:, 1])\n",
        "typo_vocab_size = len(typo_tokenizer.word_index) + 1\n",
        "\n",
        "typo_length = 8\n",
        "print('Typo Vocabulary Size: %d' % typo_vocab_size)"
      ],
      "execution_count": 58,
      "outputs": [
        {
          "output_type": "stream",
          "name": "stdout",
          "text": [
            "Typo Vocabulary Size: 530\n"
          ]
        }
      ]
    },
    {
      "cell_type": "markdown",
      "metadata": {
        "id": "WGjVTbJvxVKX"
      },
      "source": [
        "Encoding the sequence"
      ]
    },
    {
      "cell_type": "code",
      "metadata": {
        "id": "BzPPRg3flYqG"
      },
      "source": [
        "def encode_sequences(tokenizer, length, lines):\n",
        "         seq = tokenizer.texts_to_sequences(lines)\n",
        "         seq = pad_sequences(seq, maxlen=length, padding='post')\n",
        "         return seq"
      ],
      "execution_count": 59,
      "outputs": []
    },
    {
      "cell_type": "markdown",
      "metadata": {
        "id": "9TDSvhJwxYei"
      },
      "source": [
        "Splitting dataset to train and test"
      ]
    },
    {
      "cell_type": "code",
      "metadata": {
        "id": "p96eA3fgbAdM"
      },
      "source": [
        "from sklearn.model_selection import train_test_split\n",
        "\n",
        "# split data into train and test set\n",
        "train, test = train_test_split(vocab, test_size=0.2)"
      ],
      "execution_count": 60,
      "outputs": []
    },
    {
      "cell_type": "markdown",
      "metadata": {
        "id": "6lgpuW-fxbMT"
      },
      "source": [
        "Creating X and Y label on train and test datasets"
      ]
    },
    {
      "cell_type": "code",
      "metadata": {
        "id": "ZD1VLE8cldaG"
      },
      "source": [
        "# prepare training data\n",
        "trainX = encode_sequences(typo_tokenizer, typo_length, train[:, 1])\n",
        "trainY = encode_sequences(corr_tokenizer, corr_length, train[:, 0])\n",
        "\n",
        "# prepare validation data\n",
        "testX = encode_sequences(typo_tokenizer, typo_length, test[:, 1])\n",
        "testY = encode_sequences(corr_tokenizer, corr_length, test[:, 0])"
      ],
      "execution_count": 61,
      "outputs": []
    },
    {
      "cell_type": "markdown",
      "metadata": {
        "id": "8pkVG29-xeuR"
      },
      "source": [
        "Building LSTM Model"
      ]
    },
    {
      "cell_type": "code",
      "metadata": {
        "id": "ID2X5rcvln7-"
      },
      "source": [
        "# build NMT model\n",
        "def define_model(in_vocab, out_vocab, in_timesteps, out_timesteps, units):\n",
        "      model = Sequential()\n",
        "      model.add(Embedding(in_vocab, units, input_length=in_timesteps, mask_zero=True))\n",
        "      model.add(LSTM(units))\n",
        "      model.add(RepeatVector(out_timesteps))\n",
        "      model.add(LSTM(units, return_sequences=True))\n",
        "      model.add(Dense(out_vocab, activation='softmax'))\n",
        "      return model"
      ],
      "execution_count": 62,
      "outputs": []
    },
    {
      "cell_type": "markdown",
      "metadata": {
        "id": "Job1bMHFxhn3"
      },
      "source": [
        "Compiling the model"
      ]
    },
    {
      "cell_type": "code",
      "metadata": {
        "id": "bSlb2pgTlscT"
      },
      "source": [
        "# model compilation\n",
        "model = define_model(typo_vocab_size, corr_vocab_size, typo_length, corr_length, 512)\n",
        "rms = optimizers.RMSprop(learning_rate=0.001)\n",
        "model.compile(optimizer=rms, loss='sparse_categorical_crossentropy', metrics=[\"accuracy\"])"
      ],
      "execution_count": 63,
      "outputs": []
    },
    {
      "cell_type": "markdown",
      "metadata": {
        "id": "Wn4qqIARxjft"
      },
      "source": [
        "Model Fitting"
      ]
    },
    {
      "cell_type": "code",
      "metadata": {
        "colab": {
          "base_uri": "https://localhost:8080/"
        },
        "id": "WpY8TX2Ql5AF",
        "outputId": "0dbaf58b-c48f-470d-bfcf-f2b20bfc4cbd"
      },
      "source": [
        "filename = 'model.h1'\n",
        "checkpoint = ModelCheckpoint(filename, monitor='val_loss', verbose=1, save_best_only=True, mode='min')\n",
        "\n",
        "# train model\n",
        "history = model.fit(trainX, trainY.reshape(trainY.shape[0], trainY.shape[1], 1),\n",
        "                    epochs=30, batch_size=512, validation_split = 0.2,callbacks=[checkpoint], \n",
        "                    verbose=1)"
      ],
      "execution_count": 64,
      "outputs": [
        {
          "output_type": "stream",
          "name": "stdout",
          "text": [
            "Epoch 1/30\n",
            "1/1 [==============================] - ETA: 0s - loss: 6.1289 - accuracy: 7.4405e-04\n",
            "Epoch 00001: val_loss improved from inf to 6.06982, saving model to model.h1\n"
          ]
        },
        {
          "output_type": "stream",
          "name": "stderr",
          "text": [
            "WARNING:absl:Found untraced functions such as lstm_cell_14_layer_call_fn, lstm_cell_14_layer_call_and_return_conditional_losses, lstm_cell_15_layer_call_fn, lstm_cell_15_layer_call_and_return_conditional_losses, lstm_cell_14_layer_call_fn while saving (showing 5 of 10). These functions will not be directly callable after loading.\n"
          ]
        },
        {
          "output_type": "stream",
          "name": "stdout",
          "text": [
            "INFO:tensorflow:Assets written to: model.h1/assets\n"
          ]
        },
        {
          "output_type": "stream",
          "name": "stderr",
          "text": [
            "INFO:tensorflow:Assets written to: model.h1/assets\n",
            "WARNING:absl:<keras.layers.recurrent.LSTMCell object at 0x7f061cc97350> has the same name 'LSTMCell' as a built-in Keras object. Consider renaming <class 'keras.layers.recurrent.LSTMCell'> to avoid naming conflicts when loading with `tf.keras.models.load_model`. If renaming is not possible, pass the object in the `custom_objects` parameter of the load function.\n",
            "WARNING:absl:<keras.layers.recurrent.LSTMCell object at 0x7f061b349d90> has the same name 'LSTMCell' as a built-in Keras object. Consider renaming <class 'keras.layers.recurrent.LSTMCell'> to avoid naming conflicts when loading with `tf.keras.models.load_model`. If renaming is not possible, pass the object in the `custom_objects` parameter of the load function.\n"
          ]
        },
        {
          "output_type": "stream",
          "name": "stdout",
          "text": [
            "1/1 [==============================] - 28s 28s/step - loss: 6.1289 - accuracy: 7.4405e-04 - val_loss: 6.0698 - val_accuracy: 0.8705\n",
            "Epoch 2/30\n",
            "1/1 [==============================] - ETA: 0s - loss: 6.0549 - accuracy: 0.8724\n",
            "Epoch 00002: val_loss improved from 6.06982 to 5.75432, saving model to model.h1\n"
          ]
        },
        {
          "output_type": "stream",
          "name": "stderr",
          "text": [
            "WARNING:absl:Found untraced functions such as lstm_cell_14_layer_call_fn, lstm_cell_14_layer_call_and_return_conditional_losses, lstm_cell_15_layer_call_fn, lstm_cell_15_layer_call_and_return_conditional_losses, lstm_cell_14_layer_call_fn while saving (showing 5 of 10). These functions will not be directly callable after loading.\n"
          ]
        },
        {
          "output_type": "stream",
          "name": "stdout",
          "text": [
            "INFO:tensorflow:Assets written to: model.h1/assets\n"
          ]
        },
        {
          "output_type": "stream",
          "name": "stderr",
          "text": [
            "INFO:tensorflow:Assets written to: model.h1/assets\n",
            "WARNING:absl:<keras.layers.recurrent.LSTMCell object at 0x7f061cc97350> has the same name 'LSTMCell' as a built-in Keras object. Consider renaming <class 'keras.layers.recurrent.LSTMCell'> to avoid naming conflicts when loading with `tf.keras.models.load_model`. If renaming is not possible, pass the object in the `custom_objects` parameter of the load function.\n",
            "WARNING:absl:<keras.layers.recurrent.LSTMCell object at 0x7f061b349d90> has the same name 'LSTMCell' as a built-in Keras object. Consider renaming <class 'keras.layers.recurrent.LSTMCell'> to avoid naming conflicts when loading with `tf.keras.models.load_model`. If renaming is not possible, pass the object in the `custom_objects` parameter of the load function.\n"
          ]
        },
        {
          "output_type": "stream",
          "name": "stdout",
          "text": [
            "1/1 [==============================] - 18s 18s/step - loss: 6.0549 - accuracy: 0.8724 - val_loss: 5.7543 - val_accuracy: 0.8705\n",
            "Epoch 3/30\n",
            "1/1 [==============================] - ETA: 0s - loss: 5.4455 - accuracy: 0.8724\n",
            "Epoch 00003: val_loss improved from 5.75432 to 4.03965, saving model to model.h1\n"
          ]
        },
        {
          "output_type": "stream",
          "name": "stderr",
          "text": [
            "WARNING:absl:Found untraced functions such as lstm_cell_14_layer_call_fn, lstm_cell_14_layer_call_and_return_conditional_losses, lstm_cell_15_layer_call_fn, lstm_cell_15_layer_call_and_return_conditional_losses, lstm_cell_14_layer_call_fn while saving (showing 5 of 10). These functions will not be directly callable after loading.\n"
          ]
        },
        {
          "output_type": "stream",
          "name": "stdout",
          "text": [
            "INFO:tensorflow:Assets written to: model.h1/assets\n"
          ]
        },
        {
          "output_type": "stream",
          "name": "stderr",
          "text": [
            "INFO:tensorflow:Assets written to: model.h1/assets\n",
            "WARNING:absl:<keras.layers.recurrent.LSTMCell object at 0x7f061cc97350> has the same name 'LSTMCell' as a built-in Keras object. Consider renaming <class 'keras.layers.recurrent.LSTMCell'> to avoid naming conflicts when loading with `tf.keras.models.load_model`. If renaming is not possible, pass the object in the `custom_objects` parameter of the load function.\n",
            "WARNING:absl:<keras.layers.recurrent.LSTMCell object at 0x7f061b349d90> has the same name 'LSTMCell' as a built-in Keras object. Consider renaming <class 'keras.layers.recurrent.LSTMCell'> to avoid naming conflicts when loading with `tf.keras.models.load_model`. If renaming is not possible, pass the object in the `custom_objects` parameter of the load function.\n"
          ]
        },
        {
          "output_type": "stream",
          "name": "stdout",
          "text": [
            "1/1 [==============================] - 18s 18s/step - loss: 5.4455 - accuracy: 0.8724 - val_loss: 4.0397 - val_accuracy: 0.8705\n",
            "Epoch 4/30\n",
            "1/1 [==============================] - ETA: 0s - loss: 2.6535 - accuracy: 0.8724\n",
            "Epoch 00004: val_loss improved from 4.03965 to 2.77475, saving model to model.h1\n"
          ]
        },
        {
          "output_type": "stream",
          "name": "stderr",
          "text": [
            "WARNING:absl:Found untraced functions such as lstm_cell_14_layer_call_fn, lstm_cell_14_layer_call_and_return_conditional_losses, lstm_cell_15_layer_call_fn, lstm_cell_15_layer_call_and_return_conditional_losses, lstm_cell_14_layer_call_fn while saving (showing 5 of 10). These functions will not be directly callable after loading.\n"
          ]
        },
        {
          "output_type": "stream",
          "name": "stdout",
          "text": [
            "INFO:tensorflow:Assets written to: model.h1/assets\n"
          ]
        },
        {
          "output_type": "stream",
          "name": "stderr",
          "text": [
            "INFO:tensorflow:Assets written to: model.h1/assets\n",
            "WARNING:absl:<keras.layers.recurrent.LSTMCell object at 0x7f061cc97350> has the same name 'LSTMCell' as a built-in Keras object. Consider renaming <class 'keras.layers.recurrent.LSTMCell'> to avoid naming conflicts when loading with `tf.keras.models.load_model`. If renaming is not possible, pass the object in the `custom_objects` parameter of the load function.\n",
            "WARNING:absl:<keras.layers.recurrent.LSTMCell object at 0x7f061b349d90> has the same name 'LSTMCell' as a built-in Keras object. Consider renaming <class 'keras.layers.recurrent.LSTMCell'> to avoid naming conflicts when loading with `tf.keras.models.load_model`. If renaming is not possible, pass the object in the `custom_objects` parameter of the load function.\n"
          ]
        },
        {
          "output_type": "stream",
          "name": "stdout",
          "text": [
            "1/1 [==============================] - 18s 18s/step - loss: 2.6535 - accuracy: 0.8724 - val_loss: 2.7747 - val_accuracy: 0.8705\n",
            "Epoch 5/30\n",
            "1/1 [==============================] - ETA: 0s - loss: 1.4987 - accuracy: 0.8724\n",
            "Epoch 00005: val_loss improved from 2.77475 to 2.47694, saving model to model.h1\n"
          ]
        },
        {
          "output_type": "stream",
          "name": "stderr",
          "text": [
            "WARNING:absl:Found untraced functions such as lstm_cell_14_layer_call_fn, lstm_cell_14_layer_call_and_return_conditional_losses, lstm_cell_15_layer_call_fn, lstm_cell_15_layer_call_and_return_conditional_losses, lstm_cell_14_layer_call_fn while saving (showing 5 of 10). These functions will not be directly callable after loading.\n"
          ]
        },
        {
          "output_type": "stream",
          "name": "stdout",
          "text": [
            "INFO:tensorflow:Assets written to: model.h1/assets\n"
          ]
        },
        {
          "output_type": "stream",
          "name": "stderr",
          "text": [
            "INFO:tensorflow:Assets written to: model.h1/assets\n",
            "WARNING:absl:<keras.layers.recurrent.LSTMCell object at 0x7f061cc97350> has the same name 'LSTMCell' as a built-in Keras object. Consider renaming <class 'keras.layers.recurrent.LSTMCell'> to avoid naming conflicts when loading with `tf.keras.models.load_model`. If renaming is not possible, pass the object in the `custom_objects` parameter of the load function.\n",
            "WARNING:absl:<keras.layers.recurrent.LSTMCell object at 0x7f061b349d90> has the same name 'LSTMCell' as a built-in Keras object. Consider renaming <class 'keras.layers.recurrent.LSTMCell'> to avoid naming conflicts when loading with `tf.keras.models.load_model`. If renaming is not possible, pass the object in the `custom_objects` parameter of the load function.\n"
          ]
        },
        {
          "output_type": "stream",
          "name": "stdout",
          "text": [
            "1/1 [==============================] - 19s 19s/step - loss: 1.4987 - accuracy: 0.8724 - val_loss: 2.4769 - val_accuracy: 0.8705\n",
            "Epoch 6/30\n",
            "1/1 [==============================] - ETA: 0s - loss: 1.1681 - accuracy: 0.8724\n",
            "Epoch 00006: val_loss improved from 2.47694 to 2.32760, saving model to model.h1\n"
          ]
        },
        {
          "output_type": "stream",
          "name": "stderr",
          "text": [
            "WARNING:absl:Found untraced functions such as lstm_cell_14_layer_call_fn, lstm_cell_14_layer_call_and_return_conditional_losses, lstm_cell_15_layer_call_fn, lstm_cell_15_layer_call_and_return_conditional_losses, lstm_cell_14_layer_call_fn while saving (showing 5 of 10). These functions will not be directly callable after loading.\n"
          ]
        },
        {
          "output_type": "stream",
          "name": "stdout",
          "text": [
            "INFO:tensorflow:Assets written to: model.h1/assets\n"
          ]
        },
        {
          "output_type": "stream",
          "name": "stderr",
          "text": [
            "INFO:tensorflow:Assets written to: model.h1/assets\n",
            "WARNING:absl:<keras.layers.recurrent.LSTMCell object at 0x7f061cc97350> has the same name 'LSTMCell' as a built-in Keras object. Consider renaming <class 'keras.layers.recurrent.LSTMCell'> to avoid naming conflicts when loading with `tf.keras.models.load_model`. If renaming is not possible, pass the object in the `custom_objects` parameter of the load function.\n",
            "WARNING:absl:<keras.layers.recurrent.LSTMCell object at 0x7f061b349d90> has the same name 'LSTMCell' as a built-in Keras object. Consider renaming <class 'keras.layers.recurrent.LSTMCell'> to avoid naming conflicts when loading with `tf.keras.models.load_model`. If renaming is not possible, pass the object in the `custom_objects` parameter of the load function.\n"
          ]
        },
        {
          "output_type": "stream",
          "name": "stdout",
          "text": [
            "1/1 [==============================] - 19s 19s/step - loss: 1.1681 - accuracy: 0.8724 - val_loss: 2.3276 - val_accuracy: 0.8705\n",
            "Epoch 7/30\n",
            "1/1 [==============================] - ETA: 0s - loss: 1.0245 - accuracy: 0.8724\n",
            "Epoch 00007: val_loss improved from 2.32760 to 2.21197, saving model to model.h1\n"
          ]
        },
        {
          "output_type": "stream",
          "name": "stderr",
          "text": [
            "WARNING:absl:Found untraced functions such as lstm_cell_14_layer_call_fn, lstm_cell_14_layer_call_and_return_conditional_losses, lstm_cell_15_layer_call_fn, lstm_cell_15_layer_call_and_return_conditional_losses, lstm_cell_14_layer_call_fn while saving (showing 5 of 10). These functions will not be directly callable after loading.\n"
          ]
        },
        {
          "output_type": "stream",
          "name": "stdout",
          "text": [
            "INFO:tensorflow:Assets written to: model.h1/assets\n"
          ]
        },
        {
          "output_type": "stream",
          "name": "stderr",
          "text": [
            "INFO:tensorflow:Assets written to: model.h1/assets\n",
            "WARNING:absl:<keras.layers.recurrent.LSTMCell object at 0x7f061cc97350> has the same name 'LSTMCell' as a built-in Keras object. Consider renaming <class 'keras.layers.recurrent.LSTMCell'> to avoid naming conflicts when loading with `tf.keras.models.load_model`. If renaming is not possible, pass the object in the `custom_objects` parameter of the load function.\n",
            "WARNING:absl:<keras.layers.recurrent.LSTMCell object at 0x7f061b349d90> has the same name 'LSTMCell' as a built-in Keras object. Consider renaming <class 'keras.layers.recurrent.LSTMCell'> to avoid naming conflicts when loading with `tf.keras.models.load_model`. If renaming is not possible, pass the object in the `custom_objects` parameter of the load function.\n"
          ]
        },
        {
          "output_type": "stream",
          "name": "stdout",
          "text": [
            "1/1 [==============================] - 18s 18s/step - loss: 1.0245 - accuracy: 0.8724 - val_loss: 2.2120 - val_accuracy: 0.8705\n",
            "Epoch 8/30\n",
            "1/1 [==============================] - ETA: 0s - loss: 0.8944 - accuracy: 0.8724\n",
            "Epoch 00008: val_loss improved from 2.21197 to 2.12210, saving model to model.h1\n"
          ]
        },
        {
          "output_type": "stream",
          "name": "stderr",
          "text": [
            "WARNING:absl:Found untraced functions such as lstm_cell_14_layer_call_fn, lstm_cell_14_layer_call_and_return_conditional_losses, lstm_cell_15_layer_call_fn, lstm_cell_15_layer_call_and_return_conditional_losses, lstm_cell_14_layer_call_fn while saving (showing 5 of 10). These functions will not be directly callable after loading.\n"
          ]
        },
        {
          "output_type": "stream",
          "name": "stdout",
          "text": [
            "INFO:tensorflow:Assets written to: model.h1/assets\n"
          ]
        },
        {
          "output_type": "stream",
          "name": "stderr",
          "text": [
            "INFO:tensorflow:Assets written to: model.h1/assets\n",
            "WARNING:absl:<keras.layers.recurrent.LSTMCell object at 0x7f061cc97350> has the same name 'LSTMCell' as a built-in Keras object. Consider renaming <class 'keras.layers.recurrent.LSTMCell'> to avoid naming conflicts when loading with `tf.keras.models.load_model`. If renaming is not possible, pass the object in the `custom_objects` parameter of the load function.\n",
            "WARNING:absl:<keras.layers.recurrent.LSTMCell object at 0x7f061b349d90> has the same name 'LSTMCell' as a built-in Keras object. Consider renaming <class 'keras.layers.recurrent.LSTMCell'> to avoid naming conflicts when loading with `tf.keras.models.load_model`. If renaming is not possible, pass the object in the `custom_objects` parameter of the load function.\n"
          ]
        },
        {
          "output_type": "stream",
          "name": "stdout",
          "text": [
            "1/1 [==============================] - 19s 19s/step - loss: 0.8944 - accuracy: 0.8724 - val_loss: 2.1221 - val_accuracy: 0.8705\n",
            "Epoch 9/30\n",
            "1/1 [==============================] - ETA: 0s - loss: 0.8137 - accuracy: 0.8724\n",
            "Epoch 00009: val_loss improved from 2.12210 to 2.08422, saving model to model.h1\n"
          ]
        },
        {
          "output_type": "stream",
          "name": "stderr",
          "text": [
            "WARNING:absl:Found untraced functions such as lstm_cell_14_layer_call_fn, lstm_cell_14_layer_call_and_return_conditional_losses, lstm_cell_15_layer_call_fn, lstm_cell_15_layer_call_and_return_conditional_losses, lstm_cell_14_layer_call_fn while saving (showing 5 of 10). These functions will not be directly callable after loading.\n"
          ]
        },
        {
          "output_type": "stream",
          "name": "stdout",
          "text": [
            "INFO:tensorflow:Assets written to: model.h1/assets\n"
          ]
        },
        {
          "output_type": "stream",
          "name": "stderr",
          "text": [
            "INFO:tensorflow:Assets written to: model.h1/assets\n",
            "WARNING:absl:<keras.layers.recurrent.LSTMCell object at 0x7f061cc97350> has the same name 'LSTMCell' as a built-in Keras object. Consider renaming <class 'keras.layers.recurrent.LSTMCell'> to avoid naming conflicts when loading with `tf.keras.models.load_model`. If renaming is not possible, pass the object in the `custom_objects` parameter of the load function.\n",
            "WARNING:absl:<keras.layers.recurrent.LSTMCell object at 0x7f061b349d90> has the same name 'LSTMCell' as a built-in Keras object. Consider renaming <class 'keras.layers.recurrent.LSTMCell'> to avoid naming conflicts when loading with `tf.keras.models.load_model`. If renaming is not possible, pass the object in the `custom_objects` parameter of the load function.\n"
          ]
        },
        {
          "output_type": "stream",
          "name": "stdout",
          "text": [
            "1/1 [==============================] - 18s 18s/step - loss: 0.8137 - accuracy: 0.8724 - val_loss: 2.0842 - val_accuracy: 0.8705\n",
            "Epoch 10/30\n",
            "1/1 [==============================] - ETA: 0s - loss: 0.7937 - accuracy: 0.8724\n",
            "Epoch 00010: val_loss improved from 2.08422 to 2.06781, saving model to model.h1\n"
          ]
        },
        {
          "output_type": "stream",
          "name": "stderr",
          "text": [
            "WARNING:absl:Found untraced functions such as lstm_cell_14_layer_call_fn, lstm_cell_14_layer_call_and_return_conditional_losses, lstm_cell_15_layer_call_fn, lstm_cell_15_layer_call_and_return_conditional_losses, lstm_cell_14_layer_call_fn while saving (showing 5 of 10). These functions will not be directly callable after loading.\n"
          ]
        },
        {
          "output_type": "stream",
          "name": "stdout",
          "text": [
            "INFO:tensorflow:Assets written to: model.h1/assets\n"
          ]
        },
        {
          "output_type": "stream",
          "name": "stderr",
          "text": [
            "INFO:tensorflow:Assets written to: model.h1/assets\n",
            "WARNING:absl:<keras.layers.recurrent.LSTMCell object at 0x7f061cc97350> has the same name 'LSTMCell' as a built-in Keras object. Consider renaming <class 'keras.layers.recurrent.LSTMCell'> to avoid naming conflicts when loading with `tf.keras.models.load_model`. If renaming is not possible, pass the object in the `custom_objects` parameter of the load function.\n",
            "WARNING:absl:<keras.layers.recurrent.LSTMCell object at 0x7f061b349d90> has the same name 'LSTMCell' as a built-in Keras object. Consider renaming <class 'keras.layers.recurrent.LSTMCell'> to avoid naming conflicts when loading with `tf.keras.models.load_model`. If renaming is not possible, pass the object in the `custom_objects` parameter of the load function.\n"
          ]
        },
        {
          "output_type": "stream",
          "name": "stdout",
          "text": [
            "1/1 [==============================] - 18s 18s/step - loss: 0.7937 - accuracy: 0.8724 - val_loss: 2.0678 - val_accuracy: 0.8705\n",
            "Epoch 11/30\n",
            "1/1 [==============================] - ETA: 0s - loss: 0.7865 - accuracy: 0.8724\n",
            "Epoch 00011: val_loss improved from 2.06781 to 2.05839, saving model to model.h1\n"
          ]
        },
        {
          "output_type": "stream",
          "name": "stderr",
          "text": [
            "WARNING:absl:Found untraced functions such as lstm_cell_14_layer_call_fn, lstm_cell_14_layer_call_and_return_conditional_losses, lstm_cell_15_layer_call_fn, lstm_cell_15_layer_call_and_return_conditional_losses, lstm_cell_14_layer_call_fn while saving (showing 5 of 10). These functions will not be directly callable after loading.\n"
          ]
        },
        {
          "output_type": "stream",
          "name": "stdout",
          "text": [
            "INFO:tensorflow:Assets written to: model.h1/assets\n"
          ]
        },
        {
          "output_type": "stream",
          "name": "stderr",
          "text": [
            "INFO:tensorflow:Assets written to: model.h1/assets\n",
            "WARNING:absl:<keras.layers.recurrent.LSTMCell object at 0x7f061cc97350> has the same name 'LSTMCell' as a built-in Keras object. Consider renaming <class 'keras.layers.recurrent.LSTMCell'> to avoid naming conflicts when loading with `tf.keras.models.load_model`. If renaming is not possible, pass the object in the `custom_objects` parameter of the load function.\n",
            "WARNING:absl:<keras.layers.recurrent.LSTMCell object at 0x7f061b349d90> has the same name 'LSTMCell' as a built-in Keras object. Consider renaming <class 'keras.layers.recurrent.LSTMCell'> to avoid naming conflicts when loading with `tf.keras.models.load_model`. If renaming is not possible, pass the object in the `custom_objects` parameter of the load function.\n"
          ]
        },
        {
          "output_type": "stream",
          "name": "stdout",
          "text": [
            "1/1 [==============================] - 18s 18s/step - loss: 0.7865 - accuracy: 0.8724 - val_loss: 2.0584 - val_accuracy: 0.8705\n",
            "Epoch 12/30\n",
            "1/1 [==============================] - ETA: 0s - loss: 0.7823 - accuracy: 0.8724\n",
            "Epoch 00012: val_loss improved from 2.05839 to 2.05200, saving model to model.h1\n"
          ]
        },
        {
          "output_type": "stream",
          "name": "stderr",
          "text": [
            "WARNING:absl:Found untraced functions such as lstm_cell_14_layer_call_fn, lstm_cell_14_layer_call_and_return_conditional_losses, lstm_cell_15_layer_call_fn, lstm_cell_15_layer_call_and_return_conditional_losses, lstm_cell_14_layer_call_fn while saving (showing 5 of 10). These functions will not be directly callable after loading.\n"
          ]
        },
        {
          "output_type": "stream",
          "name": "stdout",
          "text": [
            "INFO:tensorflow:Assets written to: model.h1/assets\n"
          ]
        },
        {
          "output_type": "stream",
          "name": "stderr",
          "text": [
            "INFO:tensorflow:Assets written to: model.h1/assets\n",
            "WARNING:absl:<keras.layers.recurrent.LSTMCell object at 0x7f061cc97350> has the same name 'LSTMCell' as a built-in Keras object. Consider renaming <class 'keras.layers.recurrent.LSTMCell'> to avoid naming conflicts when loading with `tf.keras.models.load_model`. If renaming is not possible, pass the object in the `custom_objects` parameter of the load function.\n",
            "WARNING:absl:<keras.layers.recurrent.LSTMCell object at 0x7f061b349d90> has the same name 'LSTMCell' as a built-in Keras object. Consider renaming <class 'keras.layers.recurrent.LSTMCell'> to avoid naming conflicts when loading with `tf.keras.models.load_model`. If renaming is not possible, pass the object in the `custom_objects` parameter of the load function.\n"
          ]
        },
        {
          "output_type": "stream",
          "name": "stdout",
          "text": [
            "1/1 [==============================] - 19s 19s/step - loss: 0.7823 - accuracy: 0.8724 - val_loss: 2.0520 - val_accuracy: 0.8705\n",
            "Epoch 13/30\n",
            "1/1 [==============================] - ETA: 0s - loss: 0.7791 - accuracy: 0.8724\n",
            "Epoch 00013: val_loss improved from 2.05200 to 2.04726, saving model to model.h1\n"
          ]
        },
        {
          "output_type": "stream",
          "name": "stderr",
          "text": [
            "WARNING:absl:Found untraced functions such as lstm_cell_14_layer_call_fn, lstm_cell_14_layer_call_and_return_conditional_losses, lstm_cell_15_layer_call_fn, lstm_cell_15_layer_call_and_return_conditional_losses, lstm_cell_14_layer_call_fn while saving (showing 5 of 10). These functions will not be directly callable after loading.\n"
          ]
        },
        {
          "output_type": "stream",
          "name": "stdout",
          "text": [
            "INFO:tensorflow:Assets written to: model.h1/assets\n"
          ]
        },
        {
          "output_type": "stream",
          "name": "stderr",
          "text": [
            "INFO:tensorflow:Assets written to: model.h1/assets\n",
            "WARNING:absl:<keras.layers.recurrent.LSTMCell object at 0x7f061cc97350> has the same name 'LSTMCell' as a built-in Keras object. Consider renaming <class 'keras.layers.recurrent.LSTMCell'> to avoid naming conflicts when loading with `tf.keras.models.load_model`. If renaming is not possible, pass the object in the `custom_objects` parameter of the load function.\n",
            "WARNING:absl:<keras.layers.recurrent.LSTMCell object at 0x7f061b349d90> has the same name 'LSTMCell' as a built-in Keras object. Consider renaming <class 'keras.layers.recurrent.LSTMCell'> to avoid naming conflicts when loading with `tf.keras.models.load_model`. If renaming is not possible, pass the object in the `custom_objects` parameter of the load function.\n"
          ]
        },
        {
          "output_type": "stream",
          "name": "stdout",
          "text": [
            "1/1 [==============================] - 18s 18s/step - loss: 0.7791 - accuracy: 0.8724 - val_loss: 2.0473 - val_accuracy: 0.8705\n",
            "Epoch 14/30\n",
            "1/1 [==============================] - ETA: 0s - loss: 0.7764 - accuracy: 0.8724\n",
            "Epoch 00014: val_loss improved from 2.04726 to 2.04358, saving model to model.h1\n"
          ]
        },
        {
          "output_type": "stream",
          "name": "stderr",
          "text": [
            "WARNING:absl:Found untraced functions such as lstm_cell_14_layer_call_fn, lstm_cell_14_layer_call_and_return_conditional_losses, lstm_cell_15_layer_call_fn, lstm_cell_15_layer_call_and_return_conditional_losses, lstm_cell_14_layer_call_fn while saving (showing 5 of 10). These functions will not be directly callable after loading.\n"
          ]
        },
        {
          "output_type": "stream",
          "name": "stdout",
          "text": [
            "INFO:tensorflow:Assets written to: model.h1/assets\n"
          ]
        },
        {
          "output_type": "stream",
          "name": "stderr",
          "text": [
            "INFO:tensorflow:Assets written to: model.h1/assets\n",
            "WARNING:absl:<keras.layers.recurrent.LSTMCell object at 0x7f061cc97350> has the same name 'LSTMCell' as a built-in Keras object. Consider renaming <class 'keras.layers.recurrent.LSTMCell'> to avoid naming conflicts when loading with `tf.keras.models.load_model`. If renaming is not possible, pass the object in the `custom_objects` parameter of the load function.\n",
            "WARNING:absl:<keras.layers.recurrent.LSTMCell object at 0x7f061b349d90> has the same name 'LSTMCell' as a built-in Keras object. Consider renaming <class 'keras.layers.recurrent.LSTMCell'> to avoid naming conflicts when loading with `tf.keras.models.load_model`. If renaming is not possible, pass the object in the `custom_objects` parameter of the load function.\n"
          ]
        },
        {
          "output_type": "stream",
          "name": "stdout",
          "text": [
            "1/1 [==============================] - 18s 18s/step - loss: 0.7764 - accuracy: 0.8724 - val_loss: 2.0436 - val_accuracy: 0.8690\n",
            "Epoch 15/30\n",
            "1/1 [==============================] - ETA: 0s - loss: 0.7739 - accuracy: 0.8724\n",
            "Epoch 00015: val_loss improved from 2.04358 to 2.04063, saving model to model.h1\n"
          ]
        },
        {
          "output_type": "stream",
          "name": "stderr",
          "text": [
            "WARNING:absl:Found untraced functions such as lstm_cell_14_layer_call_fn, lstm_cell_14_layer_call_and_return_conditional_losses, lstm_cell_15_layer_call_fn, lstm_cell_15_layer_call_and_return_conditional_losses, lstm_cell_14_layer_call_fn while saving (showing 5 of 10). These functions will not be directly callable after loading.\n"
          ]
        },
        {
          "output_type": "stream",
          "name": "stdout",
          "text": [
            "INFO:tensorflow:Assets written to: model.h1/assets\n"
          ]
        },
        {
          "output_type": "stream",
          "name": "stderr",
          "text": [
            "INFO:tensorflow:Assets written to: model.h1/assets\n",
            "WARNING:absl:<keras.layers.recurrent.LSTMCell object at 0x7f061cc97350> has the same name 'LSTMCell' as a built-in Keras object. Consider renaming <class 'keras.layers.recurrent.LSTMCell'> to avoid naming conflicts when loading with `tf.keras.models.load_model`. If renaming is not possible, pass the object in the `custom_objects` parameter of the load function.\n",
            "WARNING:absl:<keras.layers.recurrent.LSTMCell object at 0x7f061b349d90> has the same name 'LSTMCell' as a built-in Keras object. Consider renaming <class 'keras.layers.recurrent.LSTMCell'> to avoid naming conflicts when loading with `tf.keras.models.load_model`. If renaming is not possible, pass the object in the `custom_objects` parameter of the load function.\n"
          ]
        },
        {
          "output_type": "stream",
          "name": "stdout",
          "text": [
            "1/1 [==============================] - 18s 18s/step - loss: 0.7739 - accuracy: 0.8724 - val_loss: 2.0406 - val_accuracy: 0.8690\n",
            "Epoch 16/30\n",
            "1/1 [==============================] - ETA: 0s - loss: 0.7716 - accuracy: 0.8724\n",
            "Epoch 00016: val_loss improved from 2.04063 to 2.03826, saving model to model.h1\n"
          ]
        },
        {
          "output_type": "stream",
          "name": "stderr",
          "text": [
            "WARNING:absl:Found untraced functions such as lstm_cell_14_layer_call_fn, lstm_cell_14_layer_call_and_return_conditional_losses, lstm_cell_15_layer_call_fn, lstm_cell_15_layer_call_and_return_conditional_losses, lstm_cell_14_layer_call_fn while saving (showing 5 of 10). These functions will not be directly callable after loading.\n"
          ]
        },
        {
          "output_type": "stream",
          "name": "stdout",
          "text": [
            "INFO:tensorflow:Assets written to: model.h1/assets\n"
          ]
        },
        {
          "output_type": "stream",
          "name": "stderr",
          "text": [
            "INFO:tensorflow:Assets written to: model.h1/assets\n",
            "WARNING:absl:<keras.layers.recurrent.LSTMCell object at 0x7f061cc97350> has the same name 'LSTMCell' as a built-in Keras object. Consider renaming <class 'keras.layers.recurrent.LSTMCell'> to avoid naming conflicts when loading with `tf.keras.models.load_model`. If renaming is not possible, pass the object in the `custom_objects` parameter of the load function.\n",
            "WARNING:absl:<keras.layers.recurrent.LSTMCell object at 0x7f061b349d90> has the same name 'LSTMCell' as a built-in Keras object. Consider renaming <class 'keras.layers.recurrent.LSTMCell'> to avoid naming conflicts when loading with `tf.keras.models.load_model`. If renaming is not possible, pass the object in the `custom_objects` parameter of the load function.\n"
          ]
        },
        {
          "output_type": "stream",
          "name": "stdout",
          "text": [
            "1/1 [==============================] - 18s 18s/step - loss: 0.7716 - accuracy: 0.8724 - val_loss: 2.0383 - val_accuracy: 0.8690\n",
            "Epoch 17/30\n",
            "1/1 [==============================] - ETA: 0s - loss: 0.7694 - accuracy: 0.8724\n",
            "Epoch 00017: val_loss improved from 2.03826 to 2.03635, saving model to model.h1\n"
          ]
        },
        {
          "output_type": "stream",
          "name": "stderr",
          "text": [
            "WARNING:absl:Found untraced functions such as lstm_cell_14_layer_call_fn, lstm_cell_14_layer_call_and_return_conditional_losses, lstm_cell_15_layer_call_fn, lstm_cell_15_layer_call_and_return_conditional_losses, lstm_cell_14_layer_call_fn while saving (showing 5 of 10). These functions will not be directly callable after loading.\n"
          ]
        },
        {
          "output_type": "stream",
          "name": "stdout",
          "text": [
            "INFO:tensorflow:Assets written to: model.h1/assets\n"
          ]
        },
        {
          "output_type": "stream",
          "name": "stderr",
          "text": [
            "INFO:tensorflow:Assets written to: model.h1/assets\n",
            "WARNING:absl:<keras.layers.recurrent.LSTMCell object at 0x7f061cc97350> has the same name 'LSTMCell' as a built-in Keras object. Consider renaming <class 'keras.layers.recurrent.LSTMCell'> to avoid naming conflicts when loading with `tf.keras.models.load_model`. If renaming is not possible, pass the object in the `custom_objects` parameter of the load function.\n",
            "WARNING:absl:<keras.layers.recurrent.LSTMCell object at 0x7f061b349d90> has the same name 'LSTMCell' as a built-in Keras object. Consider renaming <class 'keras.layers.recurrent.LSTMCell'> to avoid naming conflicts when loading with `tf.keras.models.load_model`. If renaming is not possible, pass the object in the `custom_objects` parameter of the load function.\n"
          ]
        },
        {
          "output_type": "stream",
          "name": "stdout",
          "text": [
            "1/1 [==============================] - 18s 18s/step - loss: 0.7694 - accuracy: 0.8724 - val_loss: 2.0364 - val_accuracy: 0.8676\n",
            "Epoch 18/30\n",
            "1/1 [==============================] - ETA: 0s - loss: 0.7672 - accuracy: 0.8724\n",
            "Epoch 00018: val_loss improved from 2.03635 to 2.03484, saving model to model.h1\n"
          ]
        },
        {
          "output_type": "stream",
          "name": "stderr",
          "text": [
            "WARNING:absl:Found untraced functions such as lstm_cell_14_layer_call_fn, lstm_cell_14_layer_call_and_return_conditional_losses, lstm_cell_15_layer_call_fn, lstm_cell_15_layer_call_and_return_conditional_losses, lstm_cell_14_layer_call_fn while saving (showing 5 of 10). These functions will not be directly callable after loading.\n"
          ]
        },
        {
          "output_type": "stream",
          "name": "stdout",
          "text": [
            "INFO:tensorflow:Assets written to: model.h1/assets\n"
          ]
        },
        {
          "output_type": "stream",
          "name": "stderr",
          "text": [
            "INFO:tensorflow:Assets written to: model.h1/assets\n",
            "WARNING:absl:<keras.layers.recurrent.LSTMCell object at 0x7f061cc97350> has the same name 'LSTMCell' as a built-in Keras object. Consider renaming <class 'keras.layers.recurrent.LSTMCell'> to avoid naming conflicts when loading with `tf.keras.models.load_model`. If renaming is not possible, pass the object in the `custom_objects` parameter of the load function.\n",
            "WARNING:absl:<keras.layers.recurrent.LSTMCell object at 0x7f061b349d90> has the same name 'LSTMCell' as a built-in Keras object. Consider renaming <class 'keras.layers.recurrent.LSTMCell'> to avoid naming conflicts when loading with `tf.keras.models.load_model`. If renaming is not possible, pass the object in the `custom_objects` parameter of the load function.\n"
          ]
        },
        {
          "output_type": "stream",
          "name": "stdout",
          "text": [
            "1/1 [==============================] - 19s 19s/step - loss: 0.7672 - accuracy: 0.8724 - val_loss: 2.0348 - val_accuracy: 0.8661\n",
            "Epoch 19/30\n",
            "1/1 [==============================] - ETA: 0s - loss: 0.7650 - accuracy: 0.8724\n",
            "Epoch 00019: val_loss improved from 2.03484 to 2.03367, saving model to model.h1\n"
          ]
        },
        {
          "output_type": "stream",
          "name": "stderr",
          "text": [
            "WARNING:absl:Found untraced functions such as lstm_cell_14_layer_call_fn, lstm_cell_14_layer_call_and_return_conditional_losses, lstm_cell_15_layer_call_fn, lstm_cell_15_layer_call_and_return_conditional_losses, lstm_cell_14_layer_call_fn while saving (showing 5 of 10). These functions will not be directly callable after loading.\n"
          ]
        },
        {
          "output_type": "stream",
          "name": "stdout",
          "text": [
            "INFO:tensorflow:Assets written to: model.h1/assets\n"
          ]
        },
        {
          "output_type": "stream",
          "name": "stderr",
          "text": [
            "INFO:tensorflow:Assets written to: model.h1/assets\n",
            "WARNING:absl:<keras.layers.recurrent.LSTMCell object at 0x7f061cc97350> has the same name 'LSTMCell' as a built-in Keras object. Consider renaming <class 'keras.layers.recurrent.LSTMCell'> to avoid naming conflicts when loading with `tf.keras.models.load_model`. If renaming is not possible, pass the object in the `custom_objects` parameter of the load function.\n",
            "WARNING:absl:<keras.layers.recurrent.LSTMCell object at 0x7f061b349d90> has the same name 'LSTMCell' as a built-in Keras object. Consider renaming <class 'keras.layers.recurrent.LSTMCell'> to avoid naming conflicts when loading with `tf.keras.models.load_model`. If renaming is not possible, pass the object in the `custom_objects` parameter of the load function.\n"
          ]
        },
        {
          "output_type": "stream",
          "name": "stdout",
          "text": [
            "1/1 [==============================] - 18s 18s/step - loss: 0.7650 - accuracy: 0.8724 - val_loss: 2.0337 - val_accuracy: 0.8601\n",
            "Epoch 20/30\n",
            "1/1 [==============================] - ETA: 0s - loss: 0.7629 - accuracy: 0.8724\n",
            "Epoch 00020: val_loss improved from 2.03367 to 2.03282, saving model to model.h1\n"
          ]
        },
        {
          "output_type": "stream",
          "name": "stderr",
          "text": [
            "WARNING:absl:Found untraced functions such as lstm_cell_14_layer_call_fn, lstm_cell_14_layer_call_and_return_conditional_losses, lstm_cell_15_layer_call_fn, lstm_cell_15_layer_call_and_return_conditional_losses, lstm_cell_14_layer_call_fn while saving (showing 5 of 10). These functions will not be directly callable after loading.\n"
          ]
        },
        {
          "output_type": "stream",
          "name": "stdout",
          "text": [
            "INFO:tensorflow:Assets written to: model.h1/assets\n"
          ]
        },
        {
          "output_type": "stream",
          "name": "stderr",
          "text": [
            "INFO:tensorflow:Assets written to: model.h1/assets\n",
            "WARNING:absl:<keras.layers.recurrent.LSTMCell object at 0x7f061cc97350> has the same name 'LSTMCell' as a built-in Keras object. Consider renaming <class 'keras.layers.recurrent.LSTMCell'> to avoid naming conflicts when loading with `tf.keras.models.load_model`. If renaming is not possible, pass the object in the `custom_objects` parameter of the load function.\n",
            "WARNING:absl:<keras.layers.recurrent.LSTMCell object at 0x7f061b349d90> has the same name 'LSTMCell' as a built-in Keras object. Consider renaming <class 'keras.layers.recurrent.LSTMCell'> to avoid naming conflicts when loading with `tf.keras.models.load_model`. If renaming is not possible, pass the object in the `custom_objects` parameter of the load function.\n"
          ]
        },
        {
          "output_type": "stream",
          "name": "stdout",
          "text": [
            "1/1 [==============================] - 19s 19s/step - loss: 0.7629 - accuracy: 0.8724 - val_loss: 2.0328 - val_accuracy: 0.8601\n",
            "Epoch 21/30\n",
            "1/1 [==============================] - ETA: 0s - loss: 0.7607 - accuracy: 0.8724\n",
            "Epoch 00021: val_loss improved from 2.03282 to 2.03228, saving model to model.h1\n"
          ]
        },
        {
          "output_type": "stream",
          "name": "stderr",
          "text": [
            "WARNING:absl:Found untraced functions such as lstm_cell_14_layer_call_fn, lstm_cell_14_layer_call_and_return_conditional_losses, lstm_cell_15_layer_call_fn, lstm_cell_15_layer_call_and_return_conditional_losses, lstm_cell_14_layer_call_fn while saving (showing 5 of 10). These functions will not be directly callable after loading.\n"
          ]
        },
        {
          "output_type": "stream",
          "name": "stdout",
          "text": [
            "INFO:tensorflow:Assets written to: model.h1/assets\n"
          ]
        },
        {
          "output_type": "stream",
          "name": "stderr",
          "text": [
            "INFO:tensorflow:Assets written to: model.h1/assets\n",
            "WARNING:absl:<keras.layers.recurrent.LSTMCell object at 0x7f061cc97350> has the same name 'LSTMCell' as a built-in Keras object. Consider renaming <class 'keras.layers.recurrent.LSTMCell'> to avoid naming conflicts when loading with `tf.keras.models.load_model`. If renaming is not possible, pass the object in the `custom_objects` parameter of the load function.\n",
            "WARNING:absl:<keras.layers.recurrent.LSTMCell object at 0x7f061b349d90> has the same name 'LSTMCell' as a built-in Keras object. Consider renaming <class 'keras.layers.recurrent.LSTMCell'> to avoid naming conflicts when loading with `tf.keras.models.load_model`. If renaming is not possible, pass the object in the `custom_objects` parameter of the load function.\n"
          ]
        },
        {
          "output_type": "stream",
          "name": "stdout",
          "text": [
            "1/1 [==============================] - 19s 19s/step - loss: 0.7607 - accuracy: 0.8724 - val_loss: 2.0323 - val_accuracy: 0.8601\n",
            "Epoch 22/30\n",
            "1/1 [==============================] - ETA: 0s - loss: 0.7586 - accuracy: 0.8724\n",
            "Epoch 00022: val_loss improved from 2.03228 to 2.03204, saving model to model.h1\n"
          ]
        },
        {
          "output_type": "stream",
          "name": "stderr",
          "text": [
            "WARNING:absl:Found untraced functions such as lstm_cell_14_layer_call_fn, lstm_cell_14_layer_call_and_return_conditional_losses, lstm_cell_15_layer_call_fn, lstm_cell_15_layer_call_and_return_conditional_losses, lstm_cell_14_layer_call_fn while saving (showing 5 of 10). These functions will not be directly callable after loading.\n"
          ]
        },
        {
          "output_type": "stream",
          "name": "stdout",
          "text": [
            "INFO:tensorflow:Assets written to: model.h1/assets\n"
          ]
        },
        {
          "output_type": "stream",
          "name": "stderr",
          "text": [
            "INFO:tensorflow:Assets written to: model.h1/assets\n",
            "WARNING:absl:<keras.layers.recurrent.LSTMCell object at 0x7f061cc97350> has the same name 'LSTMCell' as a built-in Keras object. Consider renaming <class 'keras.layers.recurrent.LSTMCell'> to avoid naming conflicts when loading with `tf.keras.models.load_model`. If renaming is not possible, pass the object in the `custom_objects` parameter of the load function.\n",
            "WARNING:absl:<keras.layers.recurrent.LSTMCell object at 0x7f061b349d90> has the same name 'LSTMCell' as a built-in Keras object. Consider renaming <class 'keras.layers.recurrent.LSTMCell'> to avoid naming conflicts when loading with `tf.keras.models.load_model`. If renaming is not possible, pass the object in the `custom_objects` parameter of the load function.\n"
          ]
        },
        {
          "output_type": "stream",
          "name": "stdout",
          "text": [
            "1/1 [==============================] - 19s 19s/step - loss: 0.7586 - accuracy: 0.8724 - val_loss: 2.0320 - val_accuracy: 0.8601\n",
            "Epoch 23/30\n",
            "1/1 [==============================] - ETA: 0s - loss: 0.7564 - accuracy: 0.8724\n",
            "Epoch 00023: val_loss did not improve from 2.03204\n",
            "1/1 [==============================] - 0s 104ms/step - loss: 0.7564 - accuracy: 0.8724 - val_loss: 2.0321 - val_accuracy: 0.8601\n",
            "Epoch 24/30\n",
            "1/1 [==============================] - ETA: 0s - loss: 0.7542 - accuracy: 0.8724\n",
            "Epoch 00024: val_loss did not improve from 2.03204\n",
            "1/1 [==============================] - 0s 98ms/step - loss: 0.7542 - accuracy: 0.8724 - val_loss: 2.0325 - val_accuracy: 0.8601\n",
            "Epoch 25/30\n",
            "1/1 [==============================] - ETA: 0s - loss: 0.7520 - accuracy: 0.8724\n",
            "Epoch 00025: val_loss did not improve from 2.03204\n",
            "1/1 [==============================] - 0s 91ms/step - loss: 0.7520 - accuracy: 0.8724 - val_loss: 2.0332 - val_accuracy: 0.8601\n",
            "Epoch 26/30\n",
            "1/1 [==============================] - ETA: 0s - loss: 0.7497 - accuracy: 0.8724\n",
            "Epoch 00026: val_loss did not improve from 2.03204\n",
            "1/1 [==============================] - 0s 92ms/step - loss: 0.7497 - accuracy: 0.8724 - val_loss: 2.0343 - val_accuracy: 0.8601\n",
            "Epoch 27/30\n",
            "1/1 [==============================] - ETA: 0s - loss: 0.7475 - accuracy: 0.8724\n",
            "Epoch 00027: val_loss did not improve from 2.03204\n",
            "1/1 [==============================] - 0s 94ms/step - loss: 0.7475 - accuracy: 0.8724 - val_loss: 2.0357 - val_accuracy: 0.8601\n",
            "Epoch 28/30\n",
            "1/1 [==============================] - ETA: 0s - loss: 0.7453 - accuracy: 0.8724\n",
            "Epoch 00028: val_loss did not improve from 2.03204\n",
            "1/1 [==============================] - 0s 99ms/step - loss: 0.7453 - accuracy: 0.8724 - val_loss: 2.0377 - val_accuracy: 0.8601\n",
            "Epoch 29/30\n",
            "1/1 [==============================] - ETA: 0s - loss: 0.7431 - accuracy: 0.8724\n",
            "Epoch 00029: val_loss did not improve from 2.03204\n",
            "1/1 [==============================] - 0s 95ms/step - loss: 0.7431 - accuracy: 0.8724 - val_loss: 2.0401 - val_accuracy: 0.8601\n",
            "Epoch 30/30\n",
            "1/1 [==============================] - ETA: 0s - loss: 0.7409 - accuracy: 0.8724\n",
            "Epoch 00030: val_loss did not improve from 2.03204\n",
            "1/1 [==============================] - 0s 103ms/step - loss: 0.7409 - accuracy: 0.8724 - val_loss: 2.0431 - val_accuracy: 0.8601\n"
          ]
        }
      ]
    },
    {
      "cell_type": "markdown",
      "metadata": {
        "id": "KWWynzXWxl6g"
      },
      "source": [
        "Prediction using test dataset"
      ]
    },
    {
      "cell_type": "code",
      "metadata": {
        "colab": {
          "base_uri": "https://localhost:8080/"
        },
        "id": "Sy-0-fSxoq0t",
        "outputId": "042ac53b-d6b2-4cd2-9ea7-1f3aae17aa90"
      },
      "source": [
        "model = load_model('model.h1')\n",
        "predict_x= model.predict(testX.reshape((testX.shape[0],testX.shape[1]))) \n",
        "classes_x= argmax(predict_x,axis=1)\n",
        "print(classes_x.shape)"
      ],
      "execution_count": 65,
      "outputs": [
        {
          "output_type": "stream",
          "name": "stdout",
          "text": [
            "(105, 459)\n"
          ]
        }
      ]
    },
    {
      "cell_type": "markdown",
      "metadata": {
        "id": "_ml5OMzBxo-X"
      },
      "source": [
        "Output for labels"
      ]
    },
    {
      "cell_type": "code",
      "metadata": {
        "colab": {
          "base_uri": "https://localhost:8080/"
        },
        "id": "GRn-_O032C6f",
        "outputId": "6b496740-0e31-434f-c23a-31b29dba79de"
      },
      "source": [
        "print(classes_x)"
      ],
      "execution_count": 66,
      "outputs": [
        {
          "output_type": "stream",
          "name": "stdout",
          "text": [
            "[[0 0 0 ... 0 0 0]\n",
            " [5 2 2 ... 1 1 1]\n",
            " [5 2 2 ... 1 2 1]\n",
            " ...\n",
            " [6 3 3 ... 2 2 2]\n",
            " [7 4 4 ... 3 3 3]\n",
            " [5 3 3 ... 2 2 2]]\n"
          ]
        }
      ]
    },
    {
      "cell_type": "markdown",
      "metadata": {
        "id": "U67zwKbdxrkI"
      },
      "source": [
        "Function for getting word from the tokenizer"
      ]
    },
    {
      "cell_type": "code",
      "metadata": {
        "id": "OUc109wNovYe"
      },
      "source": [
        "def word_token(n, tokenizer):\n",
        "      for word, index in tokenizer.word_index.items():\n",
        "          if index == n:\n",
        "              return word\n",
        "      return None"
      ],
      "execution_count": 67,
      "outputs": []
    },
    {
      "cell_type": "markdown",
      "metadata": {
        "id": "7QRdtdJsxvPC"
      },
      "source": [
        "Creating the prediction for test dataset"
      ]
    },
    {
      "cell_type": "code",
      "metadata": {
        "id": "h2V7M6knpBXP"
      },
      "source": [
        "pred_text = []\n",
        "for i in classes_x:\n",
        "  max = 0\n",
        "  idx = 0\n",
        "  for j in range(len(i)):\n",
        "    if (i[j] > max):\n",
        "      max = i[j]\n",
        "      idx = j\n",
        "    t = word_token(idx, corr_tokenizer)\n",
        "  pred_text.append(t)"
      ],
      "execution_count": 73,
      "outputs": []
    },
    {
      "cell_type": "markdown",
      "metadata": {
        "id": "r9HVGAmbxz0f"
      },
      "source": [
        "Creating dataframe for the output"
      ]
    },
    {
      "cell_type": "code",
      "metadata": {
        "id": "PBRMiotTpEE7"
      },
      "source": [
        "pred_df = pd.DataFrame({'actual' : test[:,0], 'predicted' : preds_text})"
      ],
      "execution_count": 74,
      "outputs": []
    },
    {
      "cell_type": "markdown",
      "metadata": {
        "id": "ssCoTjTqx23m"
      },
      "source": [
        "The output"
      ]
    },
    {
      "cell_type": "code",
      "metadata": {
        "colab": {
          "base_uri": "https://localhost:8080/",
          "height": 520
        },
        "id": "k0Ie0rsepIIr",
        "outputId": "7fb3b633-e236-4387-d510-699f885d4baf"
      },
      "source": [
        "pred_df.sample(15)"
      ],
      "execution_count": 75,
      "outputs": [
        {
          "output_type": "execute_result",
          "data": {
            "text/html": [
              "<div>\n",
              "<style scoped>\n",
              "    .dataframe tbody tr th:only-of-type {\n",
              "        vertical-align: middle;\n",
              "    }\n",
              "\n",
              "    .dataframe tbody tr th {\n",
              "        vertical-align: top;\n",
              "    }\n",
              "\n",
              "    .dataframe thead th {\n",
              "        text-align: right;\n",
              "    }\n",
              "</style>\n",
              "<table border=\"1\" class=\"dataframe\">\n",
              "  <thead>\n",
              "    <tr style=\"text-align: right;\">\n",
              "      <th></th>\n",
              "      <th>actual</th>\n",
              "      <th>predicted</th>\n",
              "    </tr>\n",
              "  </thead>\n",
              "  <tbody>\n",
              "    <tr>\n",
              "      <th>5</th>\n",
              "      <td>asymptote</td>\n",
              "      <td>beginning</td>\n",
              "    </tr>\n",
              "    <tr>\n",
              "      <th>78</th>\n",
              "      <td>want</td>\n",
              "      <td>beginning</td>\n",
              "    </tr>\n",
              "    <tr>\n",
              "      <th>7</th>\n",
              "      <td>situation</td>\n",
              "      <td>beginning</td>\n",
              "    </tr>\n",
              "    <tr>\n",
              "      <th>80</th>\n",
              "      <td>harass</td>\n",
              "      <td>bureaucracy</td>\n",
              "    </tr>\n",
              "    <tr>\n",
              "      <th>23</th>\n",
              "      <td>likely</td>\n",
              "      <td>beginning</td>\n",
              "    </tr>\n",
              "    <tr>\n",
              "      <th>24</th>\n",
              "      <td>directly</td>\n",
              "      <td>bureaucracy</td>\n",
              "    </tr>\n",
              "    <tr>\n",
              "      <th>65</th>\n",
              "      <td>orient</td>\n",
              "      <td>beginning</td>\n",
              "    </tr>\n",
              "    <tr>\n",
              "      <th>52</th>\n",
              "      <td>subscribed</td>\n",
              "      <td>beginning</td>\n",
              "    </tr>\n",
              "    <tr>\n",
              "      <th>96</th>\n",
              "      <td>signal</td>\n",
              "      <td>bureaucracy</td>\n",
              "    </tr>\n",
              "    <tr>\n",
              "      <th>46</th>\n",
              "      <td>occurrence</td>\n",
              "      <td>beginning</td>\n",
              "    </tr>\n",
              "    <tr>\n",
              "      <th>54</th>\n",
              "      <td>crazy</td>\n",
              "      <td>beginning</td>\n",
              "    </tr>\n",
              "    <tr>\n",
              "      <th>68</th>\n",
              "      <td>media</td>\n",
              "      <td>beginning</td>\n",
              "    </tr>\n",
              "    <tr>\n",
              "      <th>26</th>\n",
              "      <td>distract</td>\n",
              "      <td>beginning</td>\n",
              "    </tr>\n",
              "    <tr>\n",
              "      <th>41</th>\n",
              "      <td>dinosaur</td>\n",
              "      <td>bureaucracy</td>\n",
              "    </tr>\n",
              "    <tr>\n",
              "      <th>64</th>\n",
              "      <td>immediately</td>\n",
              "      <td>beginning</td>\n",
              "    </tr>\n",
              "  </tbody>\n",
              "</table>\n",
              "</div>"
            ],
            "text/plain": [
              "         actual    predicted\n",
              "5     asymptote    beginning\n",
              "78         want    beginning\n",
              "7     situation    beginning\n",
              "80       harass  bureaucracy\n",
              "23       likely    beginning\n",
              "24     directly  bureaucracy\n",
              "65       orient    beginning\n",
              "52   subscribed    beginning\n",
              "96       signal  bureaucracy\n",
              "46   occurrence    beginning\n",
              "54        crazy    beginning\n",
              "68        media    beginning\n",
              "26     distract    beginning\n",
              "41     dinosaur  bureaucracy\n",
              "64  immediately    beginning"
            ]
          },
          "metadata": {},
          "execution_count": 75
        }
      ]
    },
    {
      "cell_type": "markdown",
      "metadata": {
        "id": "ta-sPAMYx4eS"
      },
      "source": [
        "The output\n",
        "\n",
        "Note: The prediction is still far off because of the size of the dataset that is far too small to use and the word frequencies on the dataset is not enough to feed to the model."
      ]
    },
    {
      "cell_type": "code",
      "metadata": {
        "colab": {
          "base_uri": "https://localhost:8080/",
          "height": 520
        },
        "id": "cq5ByRh55q7f",
        "outputId": "8c431e7f-db2d-4598-a041-82c9c92878ed"
      },
      "source": [
        "pred_df.tail(15)"
      ],
      "execution_count": 76,
      "outputs": [
        {
          "output_type": "execute_result",
          "data": {
            "text/html": [
              "<div>\n",
              "<style scoped>\n",
              "    .dataframe tbody tr th:only-of-type {\n",
              "        vertical-align: middle;\n",
              "    }\n",
              "\n",
              "    .dataframe tbody tr th {\n",
              "        vertical-align: top;\n",
              "    }\n",
              "\n",
              "    .dataframe thead th {\n",
              "        text-align: right;\n",
              "    }\n",
              "</style>\n",
              "<table border=\"1\" class=\"dataframe\">\n",
              "  <thead>\n",
              "    <tr style=\"text-align: right;\">\n",
              "      <th></th>\n",
              "      <th>actual</th>\n",
              "      <th>predicted</th>\n",
              "    </tr>\n",
              "  </thead>\n",
              "  <tbody>\n",
              "    <tr>\n",
              "      <th>90</th>\n",
              "      <td>pronunciation</td>\n",
              "      <td>beginning</td>\n",
              "    </tr>\n",
              "    <tr>\n",
              "      <th>91</th>\n",
              "      <td>john</td>\n",
              "      <td>beginning</td>\n",
              "    </tr>\n",
              "    <tr>\n",
              "      <th>92</th>\n",
              "      <td>maximum</td>\n",
              "      <td>butter</td>\n",
              "    </tr>\n",
              "    <tr>\n",
              "      <th>93</th>\n",
              "      <td>trouble</td>\n",
              "      <td>psychologist</td>\n",
              "    </tr>\n",
              "    <tr>\n",
              "      <th>94</th>\n",
              "      <td>what</td>\n",
              "      <td>beginning</td>\n",
              "    </tr>\n",
              "    <tr>\n",
              "      <th>95</th>\n",
              "      <td>about</td>\n",
              "      <td>beginning</td>\n",
              "    </tr>\n",
              "    <tr>\n",
              "      <th>96</th>\n",
              "      <td>signal</td>\n",
              "      <td>bureaucracy</td>\n",
              "    </tr>\n",
              "    <tr>\n",
              "      <th>97</th>\n",
              "      <td>simplicity</td>\n",
              "      <td>beginning</td>\n",
              "    </tr>\n",
              "    <tr>\n",
              "      <th>98</th>\n",
              "      <td>function</td>\n",
              "      <td>beginning</td>\n",
              "    </tr>\n",
              "    <tr>\n",
              "      <th>99</th>\n",
              "      <td>section</td>\n",
              "      <td>butter</td>\n",
              "    </tr>\n",
              "    <tr>\n",
              "      <th>100</th>\n",
              "      <td>wasting</td>\n",
              "      <td>bureaucracy</td>\n",
              "    </tr>\n",
              "    <tr>\n",
              "      <th>101</th>\n",
              "      <td>segments</td>\n",
              "      <td>beginning</td>\n",
              "    </tr>\n",
              "    <tr>\n",
              "      <th>102</th>\n",
              "      <td>spoke</td>\n",
              "      <td>bureaucracy</td>\n",
              "    </tr>\n",
              "    <tr>\n",
              "      <th>103</th>\n",
              "      <td>wait</td>\n",
              "      <td>butter</td>\n",
              "    </tr>\n",
              "    <tr>\n",
              "      <th>104</th>\n",
              "      <td>properly</td>\n",
              "      <td>beginning</td>\n",
              "    </tr>\n",
              "  </tbody>\n",
              "</table>\n",
              "</div>"
            ],
            "text/plain": [
              "            actual     predicted\n",
              "90   pronunciation     beginning\n",
              "91            john     beginning\n",
              "92         maximum        butter\n",
              "93         trouble  psychologist\n",
              "94            what     beginning\n",
              "95           about     beginning\n",
              "96          signal   bureaucracy\n",
              "97      simplicity     beginning\n",
              "98        function     beginning\n",
              "99         section        butter\n",
              "100        wasting   bureaucracy\n",
              "101       segments     beginning\n",
              "102          spoke   bureaucracy\n",
              "103           wait        butter\n",
              "104       properly     beginning"
            ]
          },
          "metadata": {},
          "execution_count": 76
        }
      ]
    }
  ]
}