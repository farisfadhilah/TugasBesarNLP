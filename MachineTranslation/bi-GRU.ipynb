{
  "nbformat": 4,
  "nbformat_minor": 0,
  "metadata": {
    "colab": {
      "name": "Untitled0.ipynb",
      "provenance": [],
      "collapsed_sections": []
    },
    "kernelspec": {
      "name": "python3",
      "display_name": "Python 3"
    },
    "language_info": {
      "name": "python"
    },
    "accelerator": "GPU"
  },
  "cells": [
    {
      "cell_type": "markdown",
      "metadata": {
        "id": "L8GDtuA06lXJ"
      },
      "source": [
        "# Neural Machine Translation\n",
        "## PJ : 13518117 - Muhammad Firas"
      ]
    },
    {
      "cell_type": "code",
      "metadata": {
        "id": "R9iyI6T9T4Mg"
      },
      "source": [
        "import string\n",
        "import re\n",
        "from pickle import dump\n",
        "from unicodedata import normalize\n",
        "from numpy import array\n",
        "from pickle import load\n",
        "from keras.preprocessing.text import Tokenizer\n",
        "from keras.preprocessing.sequence import pad_sequences\n",
        "from tensorflow.keras.utils import to_categorical\n",
        "from keras.utils.vis_utils import plot_model\n",
        "from keras.models import Sequential\n",
        "from keras.layers import LSTM\n",
        "from keras.layers import GRU\n",
        "from keras.layers import Bidirectional\n",
        "from keras.layers import Dense\n",
        "from keras.layers import Embedding\n",
        "from keras.layers import RepeatVector\n",
        "from keras.layers import TimeDistributed\n",
        "from keras.callbacks import ModelCheckpoint\n",
        "from numpy import argmax\n",
        "from keras.models import load_model\n",
        "from nltk.translate.bleu_score import corpus_bleu"
      ],
      "execution_count": 1,
      "outputs": []
    },
    {
      "cell_type": "markdown",
      "metadata": {
        "id": "A1HXW5sC6sf2"
      },
      "source": [
        "## Preparing Text Data"
      ]
    },
    {
      "cell_type": "code",
      "metadata": {
        "id": "9usDaJjoTPWX"
      },
      "source": [
        "# load doc into memory\n",
        "def load_doc(filename):\n",
        "\t# open the file as read only\n",
        "\tfile = open(filename, mode='rt', encoding='utf-8')\n",
        "\t# read all text\n",
        "\ttext = file.read()\n",
        "\t# close the file\n",
        "\tfile.close()\n",
        "\treturn text"
      ],
      "execution_count": 2,
      "outputs": []
    },
    {
      "cell_type": "code",
      "metadata": {
        "id": "7Q_c_WORTosX"
      },
      "source": [
        "# split a loaded document into sentences\n",
        "def to_pairs(doc):\n",
        "\tlines = doc.strip().split('\\n')\n",
        "\tpairs = [line.split('\\t') for line in  lines]\n",
        "\treturn pairs"
      ],
      "execution_count": 3,
      "outputs": []
    },
    {
      "cell_type": "markdown",
      "metadata": {
        "id": "99G0ESWe6vMw"
      },
      "source": [
        "### Cleaning Data"
      ]
    },
    {
      "cell_type": "code",
      "metadata": {
        "id": "N1fCr8csTrM-"
      },
      "source": [
        "# clean a list of lines\n",
        "def clean_pairs(lines):\n",
        "\tcleaned = list()\n",
        "\t# prepare regex for char filtering\n",
        "\tre_print = re.compile('[^%s]' % re.escape(string.printable))\n",
        "\t# prepare translation table for removing punctuation\n",
        "\ttable = str.maketrans('', '', string.punctuation)\n",
        "\tfor pair in lines:\n",
        "\t\tclean_pair = list()\n",
        "\t\tfor line in pair:\n",
        "\t\t\t# normalize unicode characters\n",
        "\t\t\tline = normalize('NFD', line).encode('ascii', 'ignore')\n",
        "\t\t\tline = line.decode('UTF-8')\n",
        "\t\t\t# tokenize on white space\n",
        "\t\t\tline = line.split()\n",
        "\t\t\t# convert to lowercase\n",
        "\t\t\tline = [word.lower() for word in line]\n",
        "\t\t\t# remove punctuation from each token\n",
        "\t\t\tline = [word.translate(table) for word in line]\n",
        "\t\t\t# remove non-printable chars form each token\n",
        "\t\t\tline = [re_print.sub('', w) for w in line]\n",
        "\t\t\t# remove tokens with numbers in them\n",
        "\t\t\tline = [word for word in line if word.isalpha()]\n",
        "\t\t\t# store as string\n",
        "\t\t\tclean_pair.append(' '.join(line))\n",
        "\t\tcleaned.append(clean_pair)\n",
        "\treturn array(cleaned)"
      ],
      "execution_count": 4,
      "outputs": []
    },
    {
      "cell_type": "code",
      "metadata": {
        "id": "D1bfPry4TuMe"
      },
      "source": [
        "# save a list of clean sentences to file\n",
        "def save_clean_data(sentences, filename):\n",
        "\tdump(sentences, open(filename, 'wb'))\n",
        "\tprint('Saved: %s' % filename)"
      ],
      "execution_count": 5,
      "outputs": []
    },
    {
      "cell_type": "code",
      "metadata": {
        "colab": {
          "base_uri": "https://localhost:8080/"
        },
        "id": "EPbvvKzyUAfn",
        "outputId": "16e6d1e9-8a2c-4457-9717-bab840776bf2"
      },
      "source": [
        "# load dataset\n",
        "filename = 'ind.txt'\n",
        "doc = load_doc(filename)\n",
        "# split into english-german pairs\n",
        "pairs = to_pairs(doc)\n",
        "# clean sentences\n",
        "clean_pairs = clean_pairs(pairs)\n",
        "# save clean pairs to file\n",
        "save_clean_data(clean_pairs, 'english-indonesia.pkl')\n",
        "# spot check\n",
        "for i in range(100):\n",
        "\tprint('[%s] => [%s]' % (clean_pairs[i,0], clean_pairs[i,1]))"
      ],
      "execution_count": 6,
      "outputs": [
        {
          "output_type": "stream",
          "name": "stdout",
          "text": [
            "Saved: english-indonesia.pkl\n",
            "[run] => [lari]\n",
            "[who] => [siapa]\n",
            "[wow] => [wow]\n",
            "[help] => [tolong]\n",
            "[jump] => [lompat]\n",
            "[jump] => [loncat]\n",
            "[stop] => [berhenti]\n",
            "[wait] => [tunggu]\n",
            "[wait] => [tunggu]\n",
            "[hurry] => [cepatlah]\n",
            "[hurry] => [cepat]\n",
            "[hurry] => [buruan]\n",
            "[i see] => [begitu rupanya]\n",
            "[smile] => [senyum]\n",
            "[attack] => [serang]\n",
            "[cheers] => [bersulang]\n",
            "[freeze] => [jangan bergerak]\n",
            "[get up] => [bangunlah]\n",
            "[got it] => [aku mengerti]\n",
            "[got it] => [mengerti]\n",
            "[listen] => [dengar]\n",
            "[no way] => [tak bisa]\n",
            "[no way] => [tidak mungkin]\n",
            "[really] => [benarkah]\n",
            "[really] => [beneran]\n",
            "[thanks] => [makasih]\n",
            "[thanks] => [terima kasih]\n",
            "[thanks] => [makasih]\n",
            "[we try] => [kami mencoba]\n",
            "[why me] => [kenapa harus saya]\n",
            "[awesome] => [mengagumkan]\n",
            "[come on] => [ayo]\n",
            "[get out] => [keluar]\n",
            "[goodbye] => [sampai jumpa]\n",
            "[hold it] => [tahan]\n",
            "[i agree] => [aku setuju]\n",
            "[im sad] => [saya sedih]\n",
            "[its ok] => [tidak apaapa]\n",
            "[its me] => [ini aku]\n",
            "[its me] => [ini aku]\n",
            "[me too] => [aku juga]\n",
            "[perfect] => [sempurna]\n",
            "[see you] => [sampai jumpa]\n",
            "[show me] => [perlihatkan padaku]\n",
            "[show me] => [perlihatin]\n",
            "[shut up] => [diam]\n",
            "[shut up] => [diamlah]\n",
            "[so long] => [sampai jumpa]\n",
            "[tom won] => [tom menang]\n",
            "[wake up] => [bangun]\n",
            "[wake up] => [bangunlah]\n",
            "[wake up] => [bangunlah]\n",
            "[welcome] => [selamat datang]\n",
            "[be still] => [jangan bergerak]\n",
            "[good job] => [kerja yang bagus]\n",
            "[good job] => [kerja bagus]\n",
            "[grab tom] => [tangkap tom]\n",
            "[hi guys] => [hai kawankawan]\n",
            "[i failed] => [aku gagal]\n",
            "[i get it] => [aku mengerti]\n",
            "[i got it] => [aku mengerti]\n",
            "[i refuse] => [aku menolak]\n",
            "[i stayed] => [aku tetap tinggal]\n",
            "[im okay] => [aku baikbaik saja]\n",
            "[its odd] => [itu aneh]\n",
            "[its odd] => [ini aneh]\n",
            "[look out] => [awas]\n",
            "[sit down] => [duduklah]\n",
            "[sit down] => [duduklah]\n",
            "[stand up] => [berdiri]\n",
            "[stand up] => [berdirilah]\n",
            "[terrific] => [hebat]\n",
            "[they won] => [mereka menang]\n",
            "[trust me] => [percaya padaku]\n",
            "[we tried] => [kami sudah mencoba]\n",
            "[what for] => [untuk apa]\n",
            "[whos he] => [dia siapa]\n",
            "[be seated] => [duduklah]\n",
            "[bless you] => [terberkatilah dirimu]\n",
            "[calm down] => [tenanglah]\n",
            "[chill out] => [tenanglah]\n",
            "[come here] => [kemari]\n",
            "[come soon] => [datanglah segera]\n",
            "[cool down] => [tenanglah]\n",
            "[dogs bark] => [anjing menggonggong]\n",
            "[dont cry] => [jangan menangis]\n",
            "[dont die] => [jangan mati]\n",
            "[fantastic] => [fantastis]\n",
            "[forget it] => [lupakan]\n",
            "[hes a dj] => [dia adalah seorang dj]\n",
            "[i can ski] => [saya bisa bermain ski]\n",
            "[i hit tom] => [aku memukul tom]\n",
            "[i mean it] => [aku serius]\n",
            "[i mean it] => [aku serius]\n",
            "[i promise] => [aku janji]\n",
            "[im a man] => [aku lakilaki]\n",
            "[im bored] => [saya bosan]\n",
            "[im bored] => [aku bosan]\n",
            "[im clean] => [aku bersih]\n",
            "[im drunk] => [aku mabuk]\n"
          ]
        }
      ]
    },
    {
      "cell_type": "markdown",
      "metadata": {
        "id": "ggTfejEE6zX4"
      },
      "source": [
        "### Data Splitting"
      ]
    },
    {
      "cell_type": "code",
      "metadata": {
        "colab": {
          "base_uri": "https://localhost:8080/"
        },
        "id": "HzFWcgb5UOsX",
        "outputId": "533bddb1-9e95-447c-a293-945def0d842e"
      },
      "source": [
        "from pickle import load\n",
        "from pickle import dump\n",
        "from numpy.random import rand\n",
        "from numpy.random import shuffle\n",
        "\n",
        "# load a clean dataset\n",
        "def load_clean_sentences(filename):\n",
        "\treturn load(open(filename, 'rb'))\n",
        "\n",
        "# save a list of clean sentences to file\n",
        "def save_clean_data(sentences, filename):\n",
        "\tdump(sentences, open(filename, 'wb'))\n",
        "\tprint('Saved: %s' % filename)\n",
        "\n",
        "# load dataset\n",
        "dataset = load_clean_sentences('english-indonesia.pkl')\n",
        "\n",
        "# random shuffle\n",
        "shuffle(dataset)\n",
        "# split into train/test\n",
        "train, test = dataset[:7200], dataset[7200:]\n",
        "# save\n",
        "save_clean_data(dataset, 'english-indonesia-both.pkl')\n",
        "save_clean_data(train, 'english-indonesia-train.pkl')\n",
        "save_clean_data(test, 'english-indonesia-test.pkl')"
      ],
      "execution_count": 7,
      "outputs": [
        {
          "output_type": "stream",
          "name": "stdout",
          "text": [
            "Saved: english-indonesia-both.pkl\n",
            "Saved: english-indonesia-train.pkl\n",
            "Saved: english-indonesia-test.pkl\n"
          ]
        }
      ]
    },
    {
      "cell_type": "code",
      "metadata": {
        "id": "rNBUqCJOUtKI"
      },
      "source": [
        "# load datasets\n",
        "dataset = load_clean_sentences('english-indonesia-both.pkl')\n",
        "train = load_clean_sentences('english-indonesia-train.pkl')\n",
        "test = load_clean_sentences('english-indonesia-test.pkl')"
      ],
      "execution_count": 8,
      "outputs": []
    },
    {
      "cell_type": "code",
      "metadata": {
        "id": "Livz7HyXVA_H"
      },
      "source": [
        "# fit a tokenizer\n",
        "def create_tokenizer(lines):\n",
        "\ttokenizer = Tokenizer()\n",
        "\ttokenizer.fit_on_texts(lines)\n",
        "\treturn tokenizer"
      ],
      "execution_count": 9,
      "outputs": []
    },
    {
      "cell_type": "code",
      "metadata": {
        "id": "ndDV2PTLVCXX"
      },
      "source": [
        "# max sentence length\n",
        "def max_length(lines):\n",
        "\treturn max(len(line.split()) for line in lines)"
      ],
      "execution_count": 10,
      "outputs": []
    },
    {
      "cell_type": "code",
      "metadata": {
        "colab": {
          "base_uri": "https://localhost:8080/"
        },
        "id": "jqvFNSk3VF3u",
        "outputId": "a5809f39-cfc9-4d24-e000-edf8090fefd3"
      },
      "source": [
        "# prepare english tokenizer\n",
        "eng_tokenizer = create_tokenizer(dataset[:, 0])\n",
        "eng_vocab_size = len(eng_tokenizer.word_index) + 1\n",
        "eng_length = max_length(dataset[:, 0])\n",
        "print('English Vocabulary Size: %d' % eng_vocab_size)\n",
        "print('English Max Length: %d' % (eng_length))\n",
        "# prepare indoensia tokenizer\n",
        "ind_tokenizer = create_tokenizer(dataset[:, 1])\n",
        "ind_vocab_size = len(ind_tokenizer.word_index) + 1\n",
        "ind_length = max_length(dataset[:, 1])\n",
        "print('Indonesia Vocabulary Size: %d' % ind_vocab_size)\n",
        "print('Indonesia Max Length: %d' % (ind_length))"
      ],
      "execution_count": 11,
      "outputs": [
        {
          "output_type": "stream",
          "name": "stdout",
          "text": [
            "English Vocabulary Size: 3947\n",
            "English Max Length: 32\n",
            "Indonesia Vocabulary Size: 4774\n",
            "Indonesia Max Length: 25\n"
          ]
        }
      ]
    },
    {
      "cell_type": "code",
      "metadata": {
        "id": "8hm22ZBVVTBv"
      },
      "source": [
        "# encode and pad sequences\n",
        "def encode_sequences(tokenizer, length, lines):\n",
        "\t# integer encode sequences\n",
        "\tX = tokenizer.texts_to_sequences(lines)\n",
        "\t# pad sequences with 0 values\n",
        "\tX = pad_sequences(X, maxlen=length, padding='post')\n",
        "\treturn X"
      ],
      "execution_count": 12,
      "outputs": []
    },
    {
      "cell_type": "code",
      "metadata": {
        "id": "Venpkkh2VVaG"
      },
      "source": [
        "# one hot encode target sequence\n",
        "def encode_output(sequences, vocab_size):\n",
        "\tylist = list()\n",
        "\tfor sequence in sequences:\n",
        "\t\tencoded = to_categorical(sequence, num_classes=vocab_size)\n",
        "\t\tylist.append(encoded)\n",
        "\ty = array(ylist)\n",
        "\ty = y.reshape(sequences.shape[0], sequences.shape[1], vocab_size)\n",
        "\treturn y"
      ],
      "execution_count": 13,
      "outputs": []
    },
    {
      "cell_type": "code",
      "metadata": {
        "id": "lDvMurH_VYMF"
      },
      "source": [
        "# prepare training data\n",
        "trainX = encode_sequences(ind_tokenizer, ind_length, train[:, 1])\n",
        "trainY = encode_sequences(eng_tokenizer, eng_length, train[:, 0])\n",
        "trainX = encode_output(trainX, ind_vocab_size)\n",
        "# prepare validation data\n",
        "testX = encode_sequences(ind_tokenizer, ind_length, test[:, 1])\n",
        "testY = encode_sequences(eng_tokenizer, eng_length, test[:, 0])\n",
        "testX = encode_output(testX, ind_vocab_size)"
      ],
      "execution_count": 14,
      "outputs": []
    },
    {
      "cell_type": "markdown",
      "metadata": {
        "id": "WnvBl0oW66Sw"
      },
      "source": [
        "## Membuat model Bidirectional GRU"
      ]
    },
    {
      "cell_type": "code",
      "metadata": {
        "colab": {
          "base_uri": "https://localhost:8080/"
        },
        "id": "hAOOsVXVyF-Z",
        "outputId": "386a5cf2-83cd-4aab-acf0-f66c35e59f26"
      },
      "source": [
        "# define NMT model (with Bidirectional GRU)\n",
        "def define_model_GRU(src_vocab, tar_vocab, src_timesteps, tar_timesteps, n_units):\n",
        "\tmodel = Sequential()\n",
        "\tmodel.add(Embedding(src_vocab, n_units, input_length=src_timesteps, mask_zero=True))\n",
        "\tmodel.add(Bidirectional(GRU(n_units)))\n",
        "\tmodel.add(RepeatVector(tar_timesteps))\n",
        "\tmodel.add(Bidirectional(GRU(n_units, return_sequences=True)))\n",
        "\tmodel.add(TimeDistributed(Dense(tar_vocab, activation='softmax')))\n",
        "\treturn model\n",
        "\n",
        "# define model\n",
        "model_GRU = define_model_GRU(eng_vocab_size, ind_vocab_size, eng_length, ind_length, 256)\n",
        "model_GRU.compile(optimizer='adam', loss='categorical_crossentropy', metrics=['accuracy'])\n",
        "# summarize defined model\n",
        "print(model_GRU.summary())"
      ],
      "execution_count": 15,
      "outputs": [
        {
          "output_type": "stream",
          "name": "stdout",
          "text": [
            "Model: \"sequential\"\n",
            "_________________________________________________________________\n",
            " Layer (type)                Output Shape              Param #   \n",
            "=================================================================\n",
            " embedding (Embedding)       (None, 32, 256)           1010432   \n",
            "                                                                 \n",
            " bidirectional (Bidirectiona  (None, 512)              789504    \n",
            " l)                                                              \n",
            "                                                                 \n",
            " repeat_vector (RepeatVector  (None, 25, 512)          0         \n",
            " )                                                               \n",
            "                                                                 \n",
            " bidirectional_1 (Bidirectio  (None, 25, 512)          1182720   \n",
            " nal)                                                            \n",
            "                                                                 \n",
            " time_distributed (TimeDistr  (None, 25, 4774)         2449062   \n",
            " ibuted)                                                         \n",
            "                                                                 \n",
            "=================================================================\n",
            "Total params: 5,431,718\n",
            "Trainable params: 5,431,718\n",
            "Non-trainable params: 0\n",
            "_________________________________________________________________\n",
            "None\n"
          ]
        }
      ]
    },
    {
      "cell_type": "markdown",
      "metadata": {
        "id": "mjiIm2jM6-dg"
      },
      "source": [
        "### Train model"
      ]
    },
    {
      "cell_type": "code",
      "metadata": {
        "id": "Hnm_rfokyYZQ",
        "colab": {
          "base_uri": "https://localhost:8080/"
        },
        "outputId": "cb16581f-e25b-4bb0-bc44-f091b8c91ff0"
      },
      "source": [
        "# fit model\n",
        "filename = 'model_GRU.h5'\n",
        "checkpoint = ModelCheckpoint(filename, monitor='val_loss', verbose=1, save_best_only=True, mode='min')\n",
        "model_GRU.fit(trainY, trainX, epochs=30, batch_size=64, validation_data=(testY, testX), callbacks=[checkpoint], verbose=2)"
      ],
      "execution_count": 16,
      "outputs": [
        {
          "output_type": "stream",
          "name": "stdout",
          "text": [
            "Epoch 1/30\n",
            "\n",
            "Epoch 00001: val_loss improved from inf to 1.46406, saving model to model_GRU.h5\n",
            "113/113 - 30s - loss: 2.1417 - accuracy: 0.7856 - val_loss: 1.4641 - val_accuracy: 0.7999 - 30s/epoch - 268ms/step\n",
            "Epoch 2/30\n",
            "\n",
            "Epoch 00002: val_loss improved from 1.46406 to 1.44862, saving model to model_GRU.h5\n",
            "113/113 - 9s - loss: 1.4390 - accuracy: 0.7977 - val_loss: 1.4486 - val_accuracy: 0.8003 - 9s/epoch - 82ms/step\n",
            "Epoch 3/30\n",
            "\n",
            "Epoch 00003: val_loss improved from 1.44862 to 1.42756, saving model to model_GRU.h5\n",
            "113/113 - 9s - loss: 1.4001 - accuracy: 0.7994 - val_loss: 1.4276 - val_accuracy: 0.8035 - 9s/epoch - 81ms/step\n",
            "Epoch 4/30\n",
            "\n",
            "Epoch 00004: val_loss did not improve from 1.42756\n",
            "113/113 - 9s - loss: 1.3714 - accuracy: 0.8014 - val_loss: 1.4300 - val_accuracy: 0.8038 - 9s/epoch - 80ms/step\n",
            "Epoch 5/30\n",
            "\n",
            "Epoch 00005: val_loss did not improve from 1.42756\n",
            "113/113 - 9s - loss: 1.3446 - accuracy: 0.8024 - val_loss: 1.4276 - val_accuracy: 0.8012 - 9s/epoch - 80ms/step\n",
            "Epoch 6/30\n",
            "\n",
            "Epoch 00006: val_loss improved from 1.42756 to 1.40096, saving model to model_GRU.h5\n",
            "113/113 - 9s - loss: 1.3116 - accuracy: 0.8045 - val_loss: 1.4010 - val_accuracy: 0.8055 - 9s/epoch - 82ms/step\n",
            "Epoch 7/30\n",
            "\n",
            "Epoch 00007: val_loss improved from 1.40096 to 1.38671, saving model to model_GRU.h5\n",
            "113/113 - 9s - loss: 1.2809 - accuracy: 0.8059 - val_loss: 1.3867 - val_accuracy: 0.8067 - 9s/epoch - 81ms/step\n",
            "Epoch 8/30\n",
            "\n",
            "Epoch 00008: val_loss improved from 1.38671 to 1.36225, saving model to model_GRU.h5\n",
            "113/113 - 9s - loss: 1.2447 - accuracy: 0.8096 - val_loss: 1.3622 - val_accuracy: 0.8122 - 9s/epoch - 80ms/step\n",
            "Epoch 9/30\n",
            "\n",
            "Epoch 00009: val_loss improved from 1.36225 to 1.34717, saving model to model_GRU.h5\n",
            "113/113 - 9s - loss: 1.2016 - accuracy: 0.8142 - val_loss: 1.3472 - val_accuracy: 0.8151 - 9s/epoch - 81ms/step\n",
            "Epoch 10/30\n",
            "\n",
            "Epoch 00010: val_loss improved from 1.34717 to 1.32879, saving model to model_GRU.h5\n",
            "113/113 - 9s - loss: 1.1606 - accuracy: 0.8168 - val_loss: 1.3288 - val_accuracy: 0.8161 - 9s/epoch - 80ms/step\n",
            "Epoch 11/30\n",
            "\n",
            "Epoch 00011: val_loss improved from 1.32879 to 1.31157, saving model to model_GRU.h5\n",
            "113/113 - 9s - loss: 1.1224 - accuracy: 0.8188 - val_loss: 1.3116 - val_accuracy: 0.8186 - 9s/epoch - 81ms/step\n",
            "Epoch 12/30\n",
            "\n",
            "Epoch 00012: val_loss improved from 1.31157 to 1.29766, saving model to model_GRU.h5\n",
            "113/113 - 9s - loss: 1.0805 - accuracy: 0.8215 - val_loss: 1.2977 - val_accuracy: 0.8203 - 9s/epoch - 81ms/step\n",
            "Epoch 13/30\n",
            "\n",
            "Epoch 00013: val_loss improved from 1.29766 to 1.27985, saving model to model_GRU.h5\n",
            "113/113 - 9s - loss: 1.0421 - accuracy: 0.8243 - val_loss: 1.2798 - val_accuracy: 0.8199 - 9s/epoch - 80ms/step\n",
            "Epoch 14/30\n",
            "\n",
            "Epoch 00014: val_loss improved from 1.27985 to 1.26352, saving model to model_GRU.h5\n",
            "113/113 - 9s - loss: 0.9978 - accuracy: 0.8277 - val_loss: 1.2635 - val_accuracy: 0.8233 - 9s/epoch - 81ms/step\n",
            "Epoch 15/30\n",
            "\n",
            "Epoch 00015: val_loss improved from 1.26352 to 1.25386, saving model to model_GRU.h5\n",
            "113/113 - 9s - loss: 0.9512 - accuracy: 0.8308 - val_loss: 1.2539 - val_accuracy: 0.8242 - 9s/epoch - 81ms/step\n",
            "Epoch 16/30\n",
            "\n",
            "Epoch 00016: val_loss improved from 1.25386 to 1.23511, saving model to model_GRU.h5\n",
            "113/113 - 9s - loss: 0.9047 - accuracy: 0.8343 - val_loss: 1.2351 - val_accuracy: 0.8246 - 9s/epoch - 81ms/step\n",
            "Epoch 17/30\n",
            "\n",
            "Epoch 00017: val_loss improved from 1.23511 to 1.22235, saving model to model_GRU.h5\n",
            "113/113 - 9s - loss: 0.8569 - accuracy: 0.8383 - val_loss: 1.2224 - val_accuracy: 0.8266 - 9s/epoch - 81ms/step\n",
            "Epoch 18/30\n",
            "\n",
            "Epoch 00018: val_loss improved from 1.22235 to 1.20704, saving model to model_GRU.h5\n",
            "113/113 - 9s - loss: 0.8095 - accuracy: 0.8427 - val_loss: 1.2070 - val_accuracy: 0.8298 - 9s/epoch - 81ms/step\n",
            "Epoch 19/30\n",
            "\n",
            "Epoch 00019: val_loss improved from 1.20704 to 1.20038, saving model to model_GRU.h5\n",
            "113/113 - 9s - loss: 0.7598 - accuracy: 0.8471 - val_loss: 1.2004 - val_accuracy: 0.8281 - 9s/epoch - 81ms/step\n",
            "Epoch 20/30\n",
            "\n",
            "Epoch 00020: val_loss improved from 1.20038 to 1.19175, saving model to model_GRU.h5\n",
            "113/113 - 9s - loss: 0.7111 - accuracy: 0.8528 - val_loss: 1.1917 - val_accuracy: 0.8321 - 9s/epoch - 81ms/step\n",
            "Epoch 21/30\n",
            "\n",
            "Epoch 00021: val_loss improved from 1.19175 to 1.18906, saving model to model_GRU.h5\n",
            "113/113 - 9s - loss: 0.6596 - accuracy: 0.8601 - val_loss: 1.1891 - val_accuracy: 0.8329 - 9s/epoch - 80ms/step\n",
            "Epoch 22/30\n",
            "\n",
            "Epoch 00022: val_loss improved from 1.18906 to 1.18432, saving model to model_GRU.h5\n",
            "113/113 - 9s - loss: 0.6136 - accuracy: 0.8670 - val_loss: 1.1843 - val_accuracy: 0.8341 - 9s/epoch - 81ms/step\n",
            "Epoch 23/30\n",
            "\n",
            "Epoch 00023: val_loss improved from 1.18432 to 1.17898, saving model to model_GRU.h5\n",
            "113/113 - 9s - loss: 0.5696 - accuracy: 0.8742 - val_loss: 1.1790 - val_accuracy: 0.8333 - 9s/epoch - 81ms/step\n",
            "Epoch 24/30\n",
            "\n",
            "Epoch 00024: val_loss did not improve from 1.17898\n",
            "113/113 - 9s - loss: 0.5275 - accuracy: 0.8815 - val_loss: 1.1847 - val_accuracy: 0.8366 - 9s/epoch - 79ms/step\n",
            "Epoch 25/30\n",
            "\n",
            "Epoch 00025: val_loss did not improve from 1.17898\n",
            "113/113 - 9s - loss: 0.4909 - accuracy: 0.8875 - val_loss: 1.1820 - val_accuracy: 0.8370 - 9s/epoch - 79ms/step\n",
            "Epoch 26/30\n",
            "\n",
            "Epoch 00026: val_loss did not improve from 1.17898\n",
            "113/113 - 9s - loss: 0.4549 - accuracy: 0.8940 - val_loss: 1.1793 - val_accuracy: 0.8352 - 9s/epoch - 79ms/step\n",
            "Epoch 27/30\n",
            "\n",
            "Epoch 00027: val_loss did not improve from 1.17898\n",
            "113/113 - 9s - loss: 0.4211 - accuracy: 0.9003 - val_loss: 1.1802 - val_accuracy: 0.8383 - 9s/epoch - 80ms/step\n",
            "Epoch 28/30\n",
            "\n",
            "Epoch 00028: val_loss did not improve from 1.17898\n",
            "113/113 - 9s - loss: 0.3935 - accuracy: 0.9057 - val_loss: 1.1862 - val_accuracy: 0.8370 - 9s/epoch - 79ms/step\n",
            "Epoch 29/30\n",
            "\n",
            "Epoch 00029: val_loss did not improve from 1.17898\n",
            "113/113 - 9s - loss: 0.3660 - accuracy: 0.9108 - val_loss: 1.1864 - val_accuracy: 0.8378 - 9s/epoch - 79ms/step\n",
            "Epoch 30/30\n",
            "\n",
            "Epoch 00030: val_loss did not improve from 1.17898\n",
            "113/113 - 9s - loss: 0.3433 - accuracy: 0.9153 - val_loss: 1.1961 - val_accuracy: 0.8389 - 9s/epoch - 78ms/step\n"
          ]
        },
        {
          "output_type": "execute_result",
          "data": {
            "text/plain": [
              "<keras.callbacks.History at 0x7f6df83e2c50>"
            ]
          },
          "metadata": {},
          "execution_count": 16
        }
      ]
    },
    {
      "cell_type": "code",
      "metadata": {
        "id": "M-RjzfmTZJ50"
      },
      "source": [
        "# map an integer to a word\n",
        "def word_for_id(integer, tokenizer):\n",
        "\tfor word, index in tokenizer.word_index.items():\n",
        "\t\tif index == integer:\n",
        "\t\t\treturn word\n",
        "\treturn None"
      ],
      "execution_count": 17,
      "outputs": []
    },
    {
      "cell_type": "code",
      "metadata": {
        "id": "u46wAbQFaOVm"
      },
      "source": [
        "# generate target given source sequence\n",
        "def predict_sequence(model, tokenizer, source):\n",
        "\tprediction = model.predict(source, verbose=0)[0]\n",
        "\tintegers = [argmax(vector) for vector in prediction]\n",
        "\ttarget = list()\n",
        "\tfor i in integers:\n",
        "\t\tword = word_for_id(i, tokenizer)\n",
        "\t\tif word is None:\n",
        "\t\t\tbreak\n",
        "\t\ttarget.append(word)\n",
        "\treturn ' '.join(target)"
      ],
      "execution_count": 18,
      "outputs": []
    },
    {
      "cell_type": "markdown",
      "metadata": {
        "id": "WL-KQ6HP7BxI"
      },
      "source": [
        "### Evaluasi hasil train model"
      ]
    },
    {
      "cell_type": "code",
      "metadata": {
        "id": "LtTyEMQ_aROd"
      },
      "source": [
        "# evaluate the skill of the model\n",
        "def evaluate_model(model, tokenizer, sources, raw_dataset):\n",
        "  actual, predicted = list(), list()\n",
        "  for i, source in enumerate(sources):\n",
        "    # translate encoded source text\n",
        "    source = source.reshape((1, source.shape[0]))\n",
        "    translation = predict_sequence(model, ind_tokenizer, source)\n",
        "    # print(raw_dataset[i][0])\n",
        "    # raw_target, raw_src = raw_dataset[i]\n",
        "    raw_target = raw_dataset[i][1]\n",
        "    raw_src = raw_dataset[i][0]\n",
        "    if i < 10:\n",
        "      print('src=[%s], target=[%s], predicted=[%s]' % (raw_src, raw_target, translation))\n",
        "    actual.append([raw_target.split()])\n",
        "    predicted.append(translation.split())\n",
        "  # calculate BLEU score\n",
        "  print('BLEU-1: %f' % corpus_bleu(actual, predicted, weights=(1.0, 0, 0, 0)))\n",
        "  print('BLEU-2: %f' % corpus_bleu(actual, predicted, weights=(0.5, 0.5, 0, 0)))\n",
        "  print('BLEU-3: %f' % corpus_bleu(actual, predicted, weights=(0.3, 0.3, 0.3, 0)))\n",
        "  print('BLEU-4: %f' % corpus_bleu(actual, predicted, weights=(0.25, 0.25, 0.25, 0.25)))"
      ],
      "execution_count": 21,
      "outputs": []
    },
    {
      "cell_type": "code",
      "metadata": {
        "id": "ko3rWZ7myfWB",
        "colab": {
          "base_uri": "https://localhost:8080/"
        },
        "outputId": "4cac1f11-9ed9-458b-ca5e-2631ed0343c3"
      },
      "source": [
        "# load model\n",
        "model_GRU = load_model('model_GRU.h5')\n",
        "\n",
        "# test on some test sequences\n",
        "print('test')\n",
        "evaluate_model(model_GRU, ind_tokenizer, testY, test)"
      ],
      "execution_count": 23,
      "outputs": [
        {
          "output_type": "stream",
          "name": "stdout",
          "text": [
            "test\n",
            "src=[where are the knives], target=[ada di mana pisaupisaunya], predicted=[di mana mana]\n",
            "src=[human trafficking is a crime], target=[perdagangan manusia adalah tindak pidana], predicted=[jupiter adalah planet ditonton]\n",
            "src=[is everything okay], target=[apa semuanya baikbaik saja], predicted=[apa semuanya baikbaik baikbaik]\n",
            "src=[we are having a good time], target=[kami bersenangsenang], predicted=[kami sudah melakukan yang kami]\n",
            "src=[british people are used to standing in queues], target=[orang inggris terbiasa untuk berdiri untuk mengantri], predicted=[ini ini tidak yang yang di di ini]\n",
            "src=[i have just finished eating], target=[saya baru saja selesai makan], predicted=[aku baru makan makan makan]\n",
            "src=[i do understand], target=[aku mengerti], predicted=[aku serius]\n",
            "src=[when is your birthday], target=[kapan ulang tahunmu], predicted=[kapan ulang berulang tahun]\n",
            "src=[tom and mary seem fine], target=[tom dan mary terlihat baikbaik saja], predicted=[tom tom mary mary mary]\n",
            "src=[he is busy writing a letter], target=[dia sedang sibuk menulis surat], predicted=[dia sedang dia dengan dengan]\n",
            "BLEU-1: 0.318658\n",
            "BLEU-2: 0.168788\n",
            "BLEU-3: 0.105383\n",
            "BLEU-4: 0.040720\n"
          ]
        }
      ]
    }
  ]
}