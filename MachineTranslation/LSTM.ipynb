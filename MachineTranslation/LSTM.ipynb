{
  "nbformat": 4,
  "nbformat_minor": 0,
  "metadata": {
    "accelerator": "GPU",
    "colab": {
      "name": "Untitled2.ipynb",
      "provenance": [],
      "collapsed_sections": []
    },
    "kernelspec": {
      "display_name": "Python 3",
      "name": "python3"
    },
    "language_info": {
      "name": "python"
    }
  },
  "cells": [
    {
      "cell_type": "markdown",
      "metadata": {
        "id": "Qv_yLJNZ5kQS"
      },
      "source": [
        "# Neural Machine Translation\n",
        "## PJ : 13518117 - Muhammad Firas"
      ]
    },
    {
      "cell_type": "code",
      "metadata": {
        "id": "R9iyI6T9T4Mg"
      },
      "source": [
        "import string\n",
        "import re\n",
        "from pickle import dump\n",
        "from unicodedata import normalize\n",
        "from numpy import array\n",
        "from pickle import load\n",
        "from keras.preprocessing.text import Tokenizer\n",
        "from keras.preprocessing.sequence import pad_sequences\n",
        "from tensorflow.keras.utils import to_categorical\n",
        "from keras.utils.vis_utils import plot_model\n",
        "from keras.models import Sequential\n",
        "from keras.layers import LSTM\n",
        "from keras.layers import GRU\n",
        "from keras.layers import Bidirectional\n",
        "from keras.layers import Dense\n",
        "from keras.layers import Embedding\n",
        "from keras.layers import RepeatVector\n",
        "from keras.layers import TimeDistributed\n",
        "from keras.callbacks import ModelCheckpoint\n",
        "from numpy import argmax\n",
        "from keras.models import load_model\n",
        "from nltk.translate.bleu_score import corpus_bleu"
      ],
      "execution_count": 1,
      "outputs": []
    },
    {
      "cell_type": "markdown",
      "metadata": {
        "id": "PEjtvCFl51gZ"
      },
      "source": [
        "## Preparing Text Data"
      ]
    },
    {
      "cell_type": "code",
      "metadata": {
        "id": "9usDaJjoTPWX"
      },
      "source": [
        "# load doc into memory\n",
        "def load_doc(filename):\n",
        "\t# open the file as read only\n",
        "\tfile = open(filename, mode='rt', encoding='utf-8')\n",
        "\t# read all text\n",
        "\ttext = file.read()\n",
        "\t# close the file\n",
        "\tfile.close()\n",
        "\treturn text"
      ],
      "execution_count": 2,
      "outputs": []
    },
    {
      "cell_type": "code",
      "metadata": {
        "id": "7Q_c_WORTosX"
      },
      "source": [
        "# split a loaded document into sentences\n",
        "def to_pairs(doc):\n",
        "\tlines = doc.strip().split('\\n')\n",
        "\tpairs = [line.split('\\t') for line in  lines]\n",
        "\treturn pairs"
      ],
      "execution_count": 3,
      "outputs": []
    },
    {
      "cell_type": "markdown",
      "metadata": {
        "id": "woDOhfpq58qJ"
      },
      "source": [
        "### Cleaning Data"
      ]
    },
    {
      "cell_type": "code",
      "metadata": {
        "id": "N1fCr8csTrM-"
      },
      "source": [
        "# clean a list of lines\n",
        "def clean_pairs(lines):\n",
        "\tcleaned = list()\n",
        "\t# prepare regex for char filtering\n",
        "\tre_print = re.compile('[^%s]' % re.escape(string.printable))\n",
        "\t# prepare translation table for removing punctuation\n",
        "\ttable = str.maketrans('', '', string.punctuation)\n",
        "\tfor pair in lines:\n",
        "\t\tclean_pair = list()\n",
        "\t\tfor line in pair:\n",
        "\t\t\t# normalize unicode characters\n",
        "\t\t\tline = normalize('NFD', line).encode('ascii', 'ignore')\n",
        "\t\t\tline = line.decode('UTF-8')\n",
        "\t\t\t# tokenize on white space\n",
        "\t\t\tline = line.split()\n",
        "\t\t\t# convert to lowercase\n",
        "\t\t\tline = [word.lower() for word in line]\n",
        "\t\t\t# remove punctuation from each token\n",
        "\t\t\tline = [word.translate(table) for word in line]\n",
        "\t\t\t# remove non-printable chars form each token\n",
        "\t\t\tline = [re_print.sub('', w) for w in line]\n",
        "\t\t\t# remove tokens with numbers in them\n",
        "\t\t\tline = [word for word in line if word.isalpha()]\n",
        "\t\t\t# store as string\n",
        "\t\t\tclean_pair.append(' '.join(line))\n",
        "\t\tcleaned.append(clean_pair)\n",
        "\treturn array(cleaned)"
      ],
      "execution_count": 4,
      "outputs": []
    },
    {
      "cell_type": "code",
      "metadata": {
        "id": "D1bfPry4TuMe"
      },
      "source": [
        "# save a list of clean sentences to file\n",
        "def save_clean_data(sentences, filename):\n",
        "\tdump(sentences, open(filename, 'wb'))\n",
        "\tprint('Saved: %s' % filename)"
      ],
      "execution_count": 5,
      "outputs": []
    },
    {
      "cell_type": "code",
      "metadata": {
        "colab": {
          "base_uri": "https://localhost:8080/"
        },
        "id": "EPbvvKzyUAfn",
        "outputId": "8e8a320c-4e36-41cb-bf38-9544931bedd7"
      },
      "source": [
        "# load dataset\n",
        "filename = 'ind.txt'\n",
        "doc = load_doc(filename)\n",
        "# split into english-german pairs\n",
        "pairs = to_pairs(doc)\n",
        "# clean sentences\n",
        "clean_pairs = clean_pairs(pairs)\n",
        "# save clean pairs to file\n",
        "save_clean_data(clean_pairs, 'english-indonesia.pkl')\n",
        "# spot check\n",
        "for i in range(100):\n",
        "\tprint('[%s] => [%s]' % (clean_pairs[i,0], clean_pairs[i,1]))"
      ],
      "execution_count": 6,
      "outputs": [
        {
          "output_type": "stream",
          "name": "stdout",
          "text": [
            "Saved: english-indonesia.pkl\n",
            "[run] => [lari]\n",
            "[who] => [siapa]\n",
            "[wow] => [wow]\n",
            "[help] => [tolong]\n",
            "[jump] => [lompat]\n",
            "[jump] => [loncat]\n",
            "[stop] => [berhenti]\n",
            "[wait] => [tunggu]\n",
            "[wait] => [tunggu]\n",
            "[hurry] => [cepatlah]\n",
            "[hurry] => [cepat]\n",
            "[hurry] => [buruan]\n",
            "[i see] => [begitu rupanya]\n",
            "[smile] => [senyum]\n",
            "[attack] => [serang]\n",
            "[cheers] => [bersulang]\n",
            "[freeze] => [jangan bergerak]\n",
            "[get up] => [bangunlah]\n",
            "[got it] => [aku mengerti]\n",
            "[got it] => [mengerti]\n",
            "[listen] => [dengar]\n",
            "[no way] => [tak bisa]\n",
            "[no way] => [tidak mungkin]\n",
            "[really] => [benarkah]\n",
            "[really] => [beneran]\n",
            "[thanks] => [makasih]\n",
            "[thanks] => [terima kasih]\n",
            "[thanks] => [makasih]\n",
            "[we try] => [kami mencoba]\n",
            "[why me] => [kenapa harus saya]\n",
            "[awesome] => [mengagumkan]\n",
            "[come on] => [ayo]\n",
            "[get out] => [keluar]\n",
            "[goodbye] => [sampai jumpa]\n",
            "[hold it] => [tahan]\n",
            "[i agree] => [aku setuju]\n",
            "[im sad] => [saya sedih]\n",
            "[its ok] => [tidak apaapa]\n",
            "[its me] => [ini aku]\n",
            "[its me] => [ini aku]\n",
            "[me too] => [aku juga]\n",
            "[perfect] => [sempurna]\n",
            "[see you] => [sampai jumpa]\n",
            "[show me] => [perlihatkan padaku]\n",
            "[show me] => [perlihatin]\n",
            "[shut up] => [diam]\n",
            "[shut up] => [diamlah]\n",
            "[so long] => [sampai jumpa]\n",
            "[tom won] => [tom menang]\n",
            "[wake up] => [bangun]\n",
            "[wake up] => [bangunlah]\n",
            "[wake up] => [bangunlah]\n",
            "[welcome] => [selamat datang]\n",
            "[be still] => [jangan bergerak]\n",
            "[good job] => [kerja yang bagus]\n",
            "[good job] => [kerja bagus]\n",
            "[grab tom] => [tangkap tom]\n",
            "[hi guys] => [hai kawankawan]\n",
            "[i failed] => [aku gagal]\n",
            "[i get it] => [aku mengerti]\n",
            "[i got it] => [aku mengerti]\n",
            "[i refuse] => [aku menolak]\n",
            "[i stayed] => [aku tetap tinggal]\n",
            "[im okay] => [aku baikbaik saja]\n",
            "[its odd] => [itu aneh]\n",
            "[its odd] => [ini aneh]\n",
            "[look out] => [awas]\n",
            "[sit down] => [duduklah]\n",
            "[sit down] => [duduklah]\n",
            "[stand up] => [berdiri]\n",
            "[stand up] => [berdirilah]\n",
            "[terrific] => [hebat]\n",
            "[they won] => [mereka menang]\n",
            "[trust me] => [percaya padaku]\n",
            "[we tried] => [kami sudah mencoba]\n",
            "[what for] => [untuk apa]\n",
            "[whos he] => [dia siapa]\n",
            "[be seated] => [duduklah]\n",
            "[bless you] => [terberkatilah dirimu]\n",
            "[calm down] => [tenanglah]\n",
            "[chill out] => [tenanglah]\n",
            "[come here] => [kemari]\n",
            "[come soon] => [datanglah segera]\n",
            "[cool down] => [tenanglah]\n",
            "[dogs bark] => [anjing menggonggong]\n",
            "[dont cry] => [jangan menangis]\n",
            "[dont die] => [jangan mati]\n",
            "[fantastic] => [fantastis]\n",
            "[forget it] => [lupakan]\n",
            "[hes a dj] => [dia adalah seorang dj]\n",
            "[i can ski] => [saya bisa bermain ski]\n",
            "[i hit tom] => [aku memukul tom]\n",
            "[i mean it] => [aku serius]\n",
            "[i mean it] => [aku serius]\n",
            "[i promise] => [aku janji]\n",
            "[im a man] => [aku lakilaki]\n",
            "[im bored] => [saya bosan]\n",
            "[im bored] => [aku bosan]\n",
            "[im clean] => [aku bersih]\n",
            "[im drunk] => [aku mabuk]\n"
          ]
        }
      ]
    },
    {
      "cell_type": "markdown",
      "metadata": {
        "id": "chMv9iNH6Efx"
      },
      "source": [
        "### Data Splitting"
      ]
    },
    {
      "cell_type": "code",
      "metadata": {
        "colab": {
          "base_uri": "https://localhost:8080/"
        },
        "id": "HzFWcgb5UOsX",
        "outputId": "7a4cc1c5-8a75-49d0-b03a-bd555bd35171"
      },
      "source": [
        "from pickle import load\n",
        "from pickle import dump\n",
        "from numpy.random import rand\n",
        "from numpy.random import shuffle\n",
        "\n",
        "# load a clean dataset\n",
        "def load_clean_sentences(filename):\n",
        "\treturn load(open(filename, 'rb'))\n",
        "\n",
        "# save a list of clean sentences to file\n",
        "def save_clean_data(sentences, filename):\n",
        "\tdump(sentences, open(filename, 'wb'))\n",
        "\tprint('Saved: %s' % filename)\n",
        "\n",
        "# load dataset\n",
        "dataset = load_clean_sentences('english-indonesia.pkl')\n",
        "\n",
        "# random shuffle\n",
        "shuffle(dataset)\n",
        "# split into train/test\n",
        "train, test = dataset[:7200], dataset[7200:]\n",
        "# save\n",
        "save_clean_data(dataset, 'english-indonesia-both.pkl')\n",
        "save_clean_data(train, 'english-indonesia-train.pkl')\n",
        "save_clean_data(test, 'english-indonesia-test.pkl')"
      ],
      "execution_count": 7,
      "outputs": [
        {
          "output_type": "stream",
          "name": "stdout",
          "text": [
            "Saved: english-indonesia-both.pkl\n",
            "Saved: english-indonesia-train.pkl\n",
            "Saved: english-indonesia-test.pkl\n"
          ]
        }
      ]
    },
    {
      "cell_type": "code",
      "metadata": {
        "id": "rNBUqCJOUtKI"
      },
      "source": [
        "# load datasets\n",
        "dataset = load_clean_sentences('english-indonesia-both.pkl')\n",
        "train = load_clean_sentences('english-indonesia-train.pkl')\n",
        "test = load_clean_sentences('english-indonesia-test.pkl')"
      ],
      "execution_count": 8,
      "outputs": []
    },
    {
      "cell_type": "code",
      "metadata": {
        "id": "Livz7HyXVA_H"
      },
      "source": [
        "# fit a tokenizer\n",
        "def create_tokenizer(lines):\n",
        "\ttokenizer = Tokenizer()\n",
        "\ttokenizer.fit_on_texts(lines)\n",
        "\treturn tokenizer"
      ],
      "execution_count": 9,
      "outputs": []
    },
    {
      "cell_type": "code",
      "metadata": {
        "id": "ndDV2PTLVCXX"
      },
      "source": [
        "# max sentence length\n",
        "def max_length(lines):\n",
        "\treturn max(len(line.split()) for line in lines)"
      ],
      "execution_count": 10,
      "outputs": []
    },
    {
      "cell_type": "code",
      "metadata": {
        "colab": {
          "base_uri": "https://localhost:8080/"
        },
        "id": "jqvFNSk3VF3u",
        "outputId": "725d245f-387c-4edb-a10b-ac951d1e9e22"
      },
      "source": [
        "# prepare english tokenizer\n",
        "eng_tokenizer = create_tokenizer(dataset[:, 0])\n",
        "eng_vocab_size = len(eng_tokenizer.word_index) + 1\n",
        "eng_length = max_length(dataset[:, 0])\n",
        "print('English Vocabulary Size: %d' % eng_vocab_size)\n",
        "print('English Max Length: %d' % (eng_length))\n",
        "# prepare indoensia tokenizer\n",
        "ind_tokenizer = create_tokenizer(dataset[:, 1])\n",
        "ind_vocab_size = len(ind_tokenizer.word_index) + 1\n",
        "ind_length = max_length(dataset[:, 1])\n",
        "print('Indonesia Vocabulary Size: %d' % ind_vocab_size)\n",
        "print('Indonesia Max Length: %d' % (ind_length))"
      ],
      "execution_count": 11,
      "outputs": [
        {
          "output_type": "stream",
          "name": "stdout",
          "text": [
            "English Vocabulary Size: 3947\n",
            "English Max Length: 32\n",
            "Indonesia Vocabulary Size: 4774\n",
            "Indonesia Max Length: 25\n"
          ]
        }
      ]
    },
    {
      "cell_type": "code",
      "metadata": {
        "id": "8hm22ZBVVTBv"
      },
      "source": [
        "# encode and pad sequences\n",
        "def encode_sequences(tokenizer, length, lines):\n",
        "\t# integer encode sequences\n",
        "\tX = tokenizer.texts_to_sequences(lines)\n",
        "\t# pad sequences with 0 values\n",
        "\tX = pad_sequences(X, maxlen=length, padding='post')\n",
        "\treturn X"
      ],
      "execution_count": 12,
      "outputs": []
    },
    {
      "cell_type": "code",
      "metadata": {
        "id": "Venpkkh2VVaG"
      },
      "source": [
        "# one hot encode target sequence\n",
        "def encode_output(sequences, vocab_size):\n",
        "\tylist = list()\n",
        "\tfor sequence in sequences:\n",
        "\t\tencoded = to_categorical(sequence, num_classes=vocab_size)\n",
        "\t\tylist.append(encoded)\n",
        "\ty = array(ylist)\n",
        "\ty = y.reshape(sequences.shape[0], sequences.shape[1], vocab_size)\n",
        "\treturn y"
      ],
      "execution_count": 13,
      "outputs": []
    },
    {
      "cell_type": "code",
      "metadata": {
        "id": "lDvMurH_VYMF"
      },
      "source": [
        "# prepare training data\n",
        "trainX = encode_sequences(ind_tokenizer, ind_length, train[:, 1])\n",
        "trainY = encode_sequences(eng_tokenizer, eng_length, train[:, 0])\n",
        "trainX = encode_output(trainX, ind_vocab_size)\n",
        "# prepare validation data\n",
        "testX = encode_sequences(ind_tokenizer, ind_length, test[:, 1])\n",
        "testY = encode_sequences(eng_tokenizer, eng_length, test[:, 0])\n",
        "testX = encode_output(testX, ind_vocab_size)"
      ],
      "execution_count": 14,
      "outputs": []
    },
    {
      "cell_type": "markdown",
      "metadata": {
        "id": "R-_m4S9P6UGw"
      },
      "source": [
        "## Membuat model LSTM"
      ]
    },
    {
      "cell_type": "code",
      "metadata": {
        "colab": {
          "base_uri": "https://localhost:8080/"
        },
        "id": "A_vgqU-vVkLt",
        "outputId": "1b1f50bf-db08-4fc1-ab7d-03b3681f5ae3"
      },
      "source": [
        "# define NMT model\n",
        "def define_model(src_vocab, tar_vocab, src_timesteps, tar_timesteps, n_units):\n",
        "\tmodel = Sequential()\n",
        "\tmodel.add(Embedding(src_vocab, n_units, input_length=src_timesteps, mask_zero=True))\n",
        "\tmodel.add(LSTM(n_units))\n",
        "\tmodel.add(RepeatVector(tar_timesteps))\n",
        "\tmodel.add(LSTM(n_units, return_sequences=True))\n",
        "\tmodel.add(TimeDistributed(Dense(tar_vocab, activation='softmax')))\n",
        "\treturn model\n",
        "\n",
        "# define model\n",
        "model = define_model(eng_vocab_size, ind_vocab_size, eng_length, ind_length, 256)\n",
        "model.compile(optimizer='adam', loss='categorical_crossentropy', metrics=['accuracy'])\n",
        "# summarize defined model\n",
        "print(model.summary())"
      ],
      "execution_count": 15,
      "outputs": [
        {
          "output_type": "stream",
          "name": "stdout",
          "text": [
            "Model: \"sequential\"\n",
            "_________________________________________________________________\n",
            " Layer (type)                Output Shape              Param #   \n",
            "=================================================================\n",
            " embedding (Embedding)       (None, 32, 256)           1010432   \n",
            "                                                                 \n",
            " lstm (LSTM)                 (None, 256)               525312    \n",
            "                                                                 \n",
            " repeat_vector (RepeatVector  (None, 25, 256)          0         \n",
            " )                                                               \n",
            "                                                                 \n",
            " lstm_1 (LSTM)               (None, 25, 256)           525312    \n",
            "                                                                 \n",
            " time_distributed (TimeDistr  (None, 25, 4774)         1226918   \n",
            " ibuted)                                                         \n",
            "                                                                 \n",
            "=================================================================\n",
            "Total params: 3,287,974\n",
            "Trainable params: 3,287,974\n",
            "Non-trainable params: 0\n",
            "_________________________________________________________________\n",
            "None\n"
          ]
        }
      ]
    },
    {
      "cell_type": "markdown",
      "metadata": {
        "id": "ZSaGF9uC6X_P"
      },
      "source": [
        "### Train model"
      ]
    },
    {
      "cell_type": "code",
      "metadata": {
        "colab": {
          "base_uri": "https://localhost:8080/"
        },
        "id": "LUUlqvHyV2v_",
        "outputId": "65b46991-c49c-42b0-d557-a1ec0aeb4d0a"
      },
      "source": [
        "# fit model\n",
        "filename = 'model.h5'\n",
        "checkpoint = ModelCheckpoint(filename, monitor='val_loss', verbose=1, save_best_only=True, mode='min')\n",
        "model.fit(trainY, trainX, epochs=30, batch_size=64, validation_data=(testY, testX), callbacks=[checkpoint], verbose=2)"
      ],
      "execution_count": 16,
      "outputs": [
        {
          "output_type": "stream",
          "name": "stdout",
          "text": [
            "Epoch 1/30\n",
            "\n",
            "Epoch 00001: val_loss improved from inf to 1.52151, saving model to model.h5\n",
            "113/113 - 21s - loss: 2.3768 - accuracy: 0.7832 - val_loss: 1.5215 - val_accuracy: 0.7926 - 21s/epoch - 182ms/step\n",
            "Epoch 2/30\n",
            "\n",
            "Epoch 00002: val_loss improved from 1.52151 to 1.45898, saving model to model.h5\n",
            "113/113 - 7s - loss: 1.4963 - accuracy: 0.7954 - val_loss: 1.4590 - val_accuracy: 0.7990 - 7s/epoch - 62ms/step\n",
            "Epoch 3/30\n",
            "\n",
            "Epoch 00003: val_loss improved from 1.45898 to 1.43552, saving model to model.h5\n",
            "113/113 - 7s - loss: 1.4435 - accuracy: 0.7963 - val_loss: 1.4355 - val_accuracy: 0.8019 - 7s/epoch - 62ms/step\n",
            "Epoch 4/30\n",
            "\n",
            "Epoch 00004: val_loss improved from 1.43552 to 1.43288, saving model to model.h5\n",
            "113/113 - 7s - loss: 1.4148 - accuracy: 0.7982 - val_loss: 1.4329 - val_accuracy: 0.8013 - 7s/epoch - 62ms/step\n",
            "Epoch 5/30\n",
            "\n",
            "Epoch 00005: val_loss did not improve from 1.43288\n",
            "113/113 - 7s - loss: 1.4039 - accuracy: 0.7983 - val_loss: 1.4351 - val_accuracy: 0.8020 - 7s/epoch - 61ms/step\n",
            "Epoch 6/30\n",
            "\n",
            "Epoch 00006: val_loss did not improve from 1.43288\n",
            "113/113 - 7s - loss: 1.3897 - accuracy: 0.7984 - val_loss: 1.4334 - val_accuracy: 0.8017 - 7s/epoch - 61ms/step\n",
            "Epoch 7/30\n",
            "\n",
            "Epoch 00007: val_loss improved from 1.43288 to 1.41792, saving model to model.h5\n",
            "113/113 - 7s - loss: 1.3766 - accuracy: 0.8011 - val_loss: 1.4179 - val_accuracy: 0.8037 - 7s/epoch - 62ms/step\n",
            "Epoch 8/30\n",
            "\n",
            "Epoch 00008: val_loss did not improve from 1.41792\n",
            "113/113 - 7s - loss: 1.3552 - accuracy: 0.8018 - val_loss: 1.4193 - val_accuracy: 0.8037 - 7s/epoch - 61ms/step\n",
            "Epoch 9/30\n",
            "\n",
            "Epoch 00009: val_loss did not improve from 1.41792\n",
            "113/113 - 7s - loss: 1.3352 - accuracy: 0.8024 - val_loss: 1.4198 - val_accuracy: 0.8037 - 7s/epoch - 61ms/step\n",
            "Epoch 10/30\n",
            "\n",
            "Epoch 00010: val_loss did not improve from 1.41792\n",
            "113/113 - 7s - loss: 1.3251 - accuracy: 0.8027 - val_loss: 1.4212 - val_accuracy: 0.8031 - 7s/epoch - 61ms/step\n",
            "Epoch 11/30\n",
            "\n",
            "Epoch 00011: val_loss did not improve from 1.41792\n",
            "113/113 - 7s - loss: 1.3157 - accuracy: 0.8027 - val_loss: 1.4264 - val_accuracy: 0.8036 - 7s/epoch - 61ms/step\n",
            "Epoch 12/30\n",
            "\n",
            "Epoch 00012: val_loss did not improve from 1.41792\n",
            "113/113 - 7s - loss: 1.3077 - accuracy: 0.8029 - val_loss: 1.4220 - val_accuracy: 0.8030 - 7s/epoch - 61ms/step\n",
            "Epoch 13/30\n",
            "\n",
            "Epoch 00013: val_loss did not improve from 1.41792\n",
            "113/113 - 7s - loss: 1.2998 - accuracy: 0.8028 - val_loss: 1.4350 - val_accuracy: 0.8034 - 7s/epoch - 61ms/step\n",
            "Epoch 14/30\n",
            "\n",
            "Epoch 00014: val_loss did not improve from 1.41792\n",
            "113/113 - 7s - loss: 1.2943 - accuracy: 0.8031 - val_loss: 1.4253 - val_accuracy: 0.8022 - 7s/epoch - 60ms/step\n",
            "Epoch 15/30\n",
            "\n",
            "Epoch 00015: val_loss did not improve from 1.41792\n",
            "113/113 - 7s - loss: 1.2860 - accuracy: 0.8032 - val_loss: 1.4329 - val_accuracy: 0.8032 - 7s/epoch - 61ms/step\n",
            "Epoch 16/30\n",
            "\n",
            "Epoch 00016: val_loss did not improve from 1.41792\n",
            "113/113 - 7s - loss: 1.2786 - accuracy: 0.8032 - val_loss: 1.4297 - val_accuracy: 0.8023 - 7s/epoch - 61ms/step\n",
            "Epoch 17/30\n",
            "\n",
            "Epoch 00017: val_loss did not improve from 1.41792\n",
            "113/113 - 7s - loss: 1.2741 - accuracy: 0.8031 - val_loss: 1.4323 - val_accuracy: 0.8031 - 7s/epoch - 61ms/step\n",
            "Epoch 18/30\n",
            "\n",
            "Epoch 00018: val_loss did not improve from 1.41792\n",
            "113/113 - 7s - loss: 1.2652 - accuracy: 0.8035 - val_loss: 1.4223 - val_accuracy: 0.8015 - 7s/epoch - 61ms/step\n",
            "Epoch 19/30\n",
            "\n",
            "Epoch 00019: val_loss did not improve from 1.41792\n",
            "113/113 - 7s - loss: 1.2555 - accuracy: 0.8038 - val_loss: 1.4269 - val_accuracy: 0.8042 - 7s/epoch - 61ms/step\n",
            "Epoch 20/30\n",
            "\n",
            "Epoch 00020: val_loss did not improve from 1.41792\n",
            "113/113 - 7s - loss: 1.2416 - accuracy: 0.8048 - val_loss: 1.4191 - val_accuracy: 0.8039 - 7s/epoch - 61ms/step\n",
            "Epoch 21/30\n",
            "\n",
            "Epoch 00021: val_loss improved from 1.41792 to 1.41269, saving model to model.h5\n",
            "113/113 - 7s - loss: 1.2273 - accuracy: 0.8060 - val_loss: 1.4127 - val_accuracy: 0.8052 - 7s/epoch - 62ms/step\n",
            "Epoch 22/30\n",
            "\n",
            "Epoch 00022: val_loss improved from 1.41269 to 1.40762, saving model to model.h5\n",
            "113/113 - 7s - loss: 1.2142 - accuracy: 0.8063 - val_loss: 1.4076 - val_accuracy: 0.8052 - 7s/epoch - 62ms/step\n",
            "Epoch 23/30\n",
            "\n",
            "Epoch 00023: val_loss did not improve from 1.40762\n",
            "113/113 - 7s - loss: 1.2048 - accuracy: 0.8068 - val_loss: 1.4130 - val_accuracy: 0.8054 - 7s/epoch - 61ms/step\n",
            "Epoch 24/30\n",
            "\n",
            "Epoch 00024: val_loss improved from 1.40762 to 1.40250, saving model to model.h5\n",
            "113/113 - 7s - loss: 1.1921 - accuracy: 0.8072 - val_loss: 1.4025 - val_accuracy: 0.8047 - 7s/epoch - 62ms/step\n",
            "Epoch 25/30\n",
            "\n",
            "Epoch 00025: val_loss did not improve from 1.40250\n",
            "113/113 - 7s - loss: 1.1781 - accuracy: 0.8081 - val_loss: 1.4075 - val_accuracy: 0.8064 - 7s/epoch - 61ms/step\n",
            "Epoch 26/30\n",
            "\n",
            "Epoch 00026: val_loss improved from 1.40250 to 1.40070, saving model to model.h5\n",
            "113/113 - 7s - loss: 1.1672 - accuracy: 0.8087 - val_loss: 1.4007 - val_accuracy: 0.8057 - 7s/epoch - 61ms/step\n",
            "Epoch 27/30\n",
            "\n",
            "Epoch 00027: val_loss improved from 1.40070 to 1.38823, saving model to model.h5\n",
            "113/113 - 7s - loss: 1.1546 - accuracy: 0.8098 - val_loss: 1.3882 - val_accuracy: 0.8043 - 7s/epoch - 62ms/step\n",
            "Epoch 28/30\n",
            "\n",
            "Epoch 00028: val_loss improved from 1.38823 to 1.38437, saving model to model.h5\n",
            "113/113 - 7s - loss: 1.1378 - accuracy: 0.8119 - val_loss: 1.3844 - val_accuracy: 0.8082 - 7s/epoch - 62ms/step\n",
            "Epoch 29/30\n",
            "\n",
            "Epoch 00029: val_loss improved from 1.38437 to 1.37631, saving model to model.h5\n",
            "113/113 - 7s - loss: 1.1194 - accuracy: 0.8137 - val_loss: 1.3763 - val_accuracy: 0.8092 - 7s/epoch - 62ms/step\n",
            "Epoch 30/30\n",
            "\n",
            "Epoch 00030: val_loss improved from 1.37631 to 1.37053, saving model to model.h5\n",
            "113/113 - 7s - loss: 1.0979 - accuracy: 0.8155 - val_loss: 1.3705 - val_accuracy: 0.8095 - 7s/epoch - 61ms/step\n"
          ]
        },
        {
          "output_type": "execute_result",
          "data": {
            "text/plain": [
              "<keras.callbacks.History at 0x7fe6a0762390>"
            ]
          },
          "metadata": {},
          "execution_count": 16
        }
      ]
    },
    {
      "cell_type": "code",
      "metadata": {
        "id": "M-RjzfmTZJ50"
      },
      "source": [
        "# map an integer to a word\n",
        "def word_for_id(integer, tokenizer):\n",
        "\tfor word, index in tokenizer.word_index.items():\n",
        "\t\tif index == integer:\n",
        "\t\t\treturn word\n",
        "\treturn None"
      ],
      "execution_count": 17,
      "outputs": []
    },
    {
      "cell_type": "code",
      "metadata": {
        "id": "u46wAbQFaOVm"
      },
      "source": [
        "# generate target given source sequence\n",
        "def predict_sequence(model, tokenizer, source):\n",
        "\tprediction = model.predict(source, verbose=0)[0]\n",
        "\tintegers = [argmax(vector) for vector in prediction]\n",
        "\ttarget = list()\n",
        "\tfor i in integers:\n",
        "\t\tword = word_for_id(i, tokenizer)\n",
        "\t\tif word is None:\n",
        "\t\t\tbreak\n",
        "\t\ttarget.append(word)\n",
        "\treturn ' '.join(target)"
      ],
      "execution_count": 18,
      "outputs": []
    },
    {
      "cell_type": "markdown",
      "metadata": {
        "id": "u5_18Qr56dSA"
      },
      "source": [
        "### Evaluasi hasil train model"
      ]
    },
    {
      "cell_type": "code",
      "metadata": {
        "id": "LtTyEMQ_aROd"
      },
      "source": [
        "# evaluate the skill of the model\n",
        "def evaluate_model(model, tokenizer, sources, raw_dataset):\n",
        "  actual, predicted = list(), list()\n",
        "  for i, source in enumerate(sources):\n",
        "    # translate encoded source text\n",
        "    source = source.reshape((1, source.shape[0]))\n",
        "    translation = predict_sequence(model, ind_tokenizer, source)\n",
        "    # print(raw_dataset[i][0])\n",
        "    # raw_target, raw_src = raw_dataset[i]\n",
        "    raw_target = raw_dataset[i][1]\n",
        "    raw_src = raw_dataset[i][0]\n",
        "    if i < 10:\n",
        "      print('src=[%s], target=[%s], predicted=[%s]' % (raw_src, raw_target, translation))\n",
        "    actual.append([raw_target.split()])\n",
        "    predicted.append(translation.split())\n",
        "  # calculate BLEU score\n",
        "  print('BLEU-1: %f' % corpus_bleu(actual, predicted, weights=(1.0, 0, 0, 0)))\n",
        "  print('BLEU-2: %f' % corpus_bleu(actual, predicted, weights=(0.5, 0.5, 0, 0)))\n",
        "  print('BLEU-3: %f' % corpus_bleu(actual, predicted, weights=(0.3, 0.3, 0.3, 0)))\n",
        "  print('BLEU-4: %f' % corpus_bleu(actual, predicted, weights=(0.25, 0.25, 0.25, 0.25)))"
      ],
      "execution_count": 21,
      "outputs": []
    },
    {
      "cell_type": "code",
      "metadata": {
        "colab": {
          "base_uri": "https://localhost:8080/"
        },
        "id": "4HN0fnukaYCk",
        "outputId": "e3811050-4569-4fac-eb76-3c738af0689c"
      },
      "source": [
        "# load model\n",
        "model = load_model('model.h5')\n",
        "\n",
        "# test on some test sequences\n",
        "print('test')\n",
        "evaluate_model(model, ind_tokenizer, testY, test)"
      ],
      "execution_count": 22,
      "outputs": [
        {
          "output_type": "stream",
          "name": "stdout",
          "text": [
            "test\n",
            "src=[how many people are on the list now], target=[berapa banyak orang yang ada di dalam daftar sekarang], predicted=[tom tom tom yang yang hari]\n",
            "src=[tom retired from coaching in], target=[tom berhenti melatih pada tahun], predicted=[tom adalah yang di yang]\n",
            "src=[you dont need this], target=[kau tidak memerlukan ini], predicted=[apa kau kamu pergi]\n",
            "src=[why would you want talk to tom about that], target=[kenapa kau ingin membicarakan hal itu dengan tom], predicted=[apa tidak tidak yang yang yang]\n",
            "src=[i think youre right], target=[aku pikir kamu benar], predicted=[aku tidak tidak]\n",
            "src=[japanese companies generally provide their employees with uniforms], target=[perusahan jepang umumnya menyediakan seragam untuk para karyawannya], predicted=[tom itu itu dan dan yang yang yang]\n",
            "src=[my father doesnt like football], target=[ayahku tidak suka sepak bola], predicted=[aku harus ke ke]\n",
            "src=[could you please repeat it once again], target=[bisakah anda mengulanginya sekali lagi], predicted=[tom tidak suka dengan dokter]\n",
            "src=[lets go back to the office], target=[mari kembali ke kantor], predicted=[tom tidak pergi di di]\n",
            "src=[theres no way im going to do that], target=[aku tidak akan pernah mau melakukannya], predicted=[apa tidak tahu yang yang yang]\n"
          ]
        },
        {
          "output_type": "stream",
          "name": "stderr",
          "text": [
            "/usr/local/lib/python3.7/dist-packages/nltk/translate/bleu_score.py:490: UserWarning: \n",
            "Corpus/Sentence contains 0 counts of 4-gram overlaps.\n",
            "BLEU scores might be undesirable; use SmoothingFunction().\n",
            "  warnings.warn(_msg)\n"
          ]
        },
        {
          "output_type": "stream",
          "name": "stdout",
          "text": [
            "BLEU-1: 0.157234\n",
            "BLEU-2: 0.051310\n",
            "BLEU-3: 0.021720\n",
            "BLEU-4: 0.039971\n"
          ]
        }
      ]
    }
  ]
}